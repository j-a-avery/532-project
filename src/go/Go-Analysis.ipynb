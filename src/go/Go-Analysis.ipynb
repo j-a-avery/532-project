{
 "cells": [
  {
   "cell_type": "markdown",
   "metadata": {},
   "source": [
    "# CSCI 532 Semester Project\n",
    "\n",
    "James Avery"
   ]
  },
  {
   "cell_type": "markdown",
   "metadata": {},
   "source": [
    "## Problem #3\n",
    "\n",
    ">Write a C/C++/Matlab/Java program to compute insertion sort and merge sort. (You can use the code from the textbooks by Deitel and Deitel or from the web.) Obtain the run time of both routines.\n",
    "\n",
    ">The input data should be an int array containing random element values (between, say, 0 and 1023). Obtain run time T with 1D (input) array of size of $n = 16$, $256$, $4096$, $65536$, $1048576$ (i.e. $2^p$, where $p = 4$, $8$, $12$, $16$, $20$). The run time for each $n$ should be averaged with about $\\left\\lfloor{\\frac{512}{p \\times p}}\\right\\rfloor$ runs. Each run for a given $n$ should use a different random input.\n",
    "\n",
    ">Plot (with Excel, Matlab, or other available tools) the run time for both routines on one plot, with the $x$ axis in $p$ values, and $y$ axis in $\\log{T}$. Label on the plot which curve is for insertion sort and which is for merge sort.\n",
    "\n",
    ">Submit C/C++ programs and plot, with instructions in readme.txt on how to build and run the program. (Include the Dev-C++/MS Visual Studio/Java NetBeans project file.)"
   ]
  },
  {
   "cell_type": "markdown",
   "metadata": {},
   "source": [
    "## 1: Build the project"
   ]
  },
  {
   "cell_type": "markdown",
   "metadata": {},
   "source": [
    "The project is built with the command `go build -o gomain main.go` in linux, or `go build -o gomain.exe main.go` in Windows.\n",
    "\n",
    "The code cell below checks to see if the executable exists, and builds it if it does not."
   ]
  },
  {
   "cell_type": "code",
   "execution_count": 1,
   "metadata": {},
   "outputs": [
    {
     "name": "stdout",
     "output_type": "stream",
     "text": [
      "Executable exists for Linux.\n"
     ]
    }
   ],
   "source": [
    "import os\n",
    "import platform\n",
    "\n",
    "linux = platform.system() == \"Linux\"\n",
    "windows = platform.system() == \"Windows\"\n",
    "\n",
    "gomain_exists = os.access(\"gomain\", os.F_OK)\n",
    "gomainexe_exists = os.access(\"gomain\", os.F_OK)\n",
    "\n",
    "gomain_is_executable = os.access(\"gomain\", os.X_OK)\n",
    "gomainexe_is_executable = os.access(\"gomain.exe\", os.X_OK)\n",
    "\n",
    "if linux and gomain_is_executable:\n",
    "    print(\"Executable exists for Linux.\")\n",
    "elif linux and not gomain_is_executable and not gomain_exists:\n",
    "    print(\"Building for Linux\")\n",
    "    !go build -o gomain main.go\n",
    "    print(\"Done.\")\n",
    "elif windows and gomainexe_is_executable:\n",
    "    print(\"Executable exists for Windows.\")\n",
    "elif windows and not gomainexe_is_executable and not gomainexe_exists:\n",
    "    print(\"Building for Windows\")\n",
    "    !go build -o gomain.exe main.go\n",
    "    print(\"Done.\")\n",
    "else:\n",
    "    print(\"Either this is an unsupported OS, or something else is wrong.\")"
   ]
  },
  {
   "cell_type": "markdown",
   "metadata": {},
   "source": [
    "## 2: Demonstrate that the sorters sort correctly"
   ]
  },
  {
   "cell_type": "markdown",
   "metadata": {},
   "source": [
    "### Insertion Sort"
   ]
  },
  {
   "cell_type": "code",
   "execution_count": 2,
   "metadata": {},
   "outputs": [
    {
     "name": "stdout",
     "output_type": "stream",
     "text": [
      "\r\n",
      "=====  Demonstrating Insertion Sort  =====\r\n",
      "\r\n",
      "Before: [545 527 455 187 385 390 825 684 840 932]\r\n",
      "After:  [187 385 390 455 527 545 684 825 840 932]\r\n",
      "\r\n",
      "Before: [198 687 930 1009 344 282 651 149 805 994]\r\n",
      "After:  [149 198 282 344 651 687 805 930 994 1009]\r\n",
      "\r\n",
      "Before: [783 218 616 658 127 299 47 248 54 1015]\r\n",
      "After:  [47 54 127 218 248 299 616 658 783 1015]\r\n",
      "\r\n",
      "Before: [821 888 475 783 933 332 41 1015 765 914]\r\n",
      "After:  [41 332 475 765 783 821 888 914 933 1015]\r\n",
      "\r\n",
      "Before: [653 658 970 835 497 915 990 740 383 89]\r\n",
      "After:  [89 383 497 653 658 740 835 915 970 990]\r\n",
      "\r\n",
      "Before: [789 585 501 151 168 529 712 762 871 939]\r\n",
      "After:  [151 168 501 529 585 712 762 789 871 939]\r\n",
      "\r\n",
      "Before: [771 30 189 412 362 932 489 130 671 290]\r\n",
      "After:  [30 130 189 290 362 412 489 671 771 932]\r\n",
      "\r\n",
      "Before: [587 744 234 758 359 38 457 519 124 180]\r\n",
      "After:  [38 124 180 234 359 457 519 587 744 758]\r\n",
      "\r\n",
      "Before: [799 889 257 925 905 43 489 915 515 178]\r\n",
      "After:  [43 178 257 489 515 799 889 905 915 925]\r\n",
      "\r\n",
      "Before: [958 88 898 499 548 263 344 163 397 382]\r\n",
      "After:  [88 163 263 344 382 397 499 548 898 958]\r\n"
     ]
    }
   ],
   "source": [
    "! ./gomain insertion-only +demo -time"
   ]
  },
  {
   "cell_type": "markdown",
   "metadata": {},
   "source": [
    "### Merge Sort"
   ]
  },
  {
   "cell_type": "code",
   "execution_count": 3,
   "metadata": {},
   "outputs": [
    {
     "name": "stdout",
     "output_type": "stream",
     "text": [
      "\r\n",
      "=====  Demonstrating Merge Sort  =====\r\n",
      "\r\n",
      "Before: [545 527 455 187 385 390 825 684 840 932]\r\n",
      "After:  [187 385 390 455 527 545 684 825 840 932]\r\n",
      "\r\n",
      "Before: [198 687 930 1009 344 282 651 149 805 994]\r\n",
      "After:  [149 198 282 344 651 687 805 930 994 1009]\r\n",
      "\r\n",
      "Before: [783 218 616 658 127 299 47 248 54 1015]\r\n",
      "After:  [47 54 127 218 248 299 616 658 783 1015]\r\n",
      "\r\n",
      "Before: [821 888 475 783 933 332 41 1015 765 914]\r\n",
      "After:  [41 332 475 765 783 821 888 914 933 1015]\r\n",
      "\r\n",
      "Before: [653 658 970 835 497 915 990 740 383 89]\r\n",
      "After:  [89 383 497 653 658 740 835 915 970 990]\r\n",
      "\r\n",
      "Before: [789 585 501 151 168 529 712 762 871 939]\r\n",
      "After:  [151 168 501 529 585 712 762 789 871 939]\r\n",
      "\r\n",
      "Before: [771 30 189 412 362 932 489 130 671 290]\r\n",
      "After:  [30 130 189 290 362 412 489 671 771 932]\r\n",
      "\r\n",
      "Before: [587 744 234 758 359 38 457 519 124 180]\r\n",
      "After:  [38 124 180 234 359 457 519 587 744 758]\r\n",
      "\r\n",
      "Before: [799 889 257 925 905 43 489 915 515 178]\r\n",
      "After:  [43 178 257 489 515 799 889 905 915 925]\r\n",
      "\r\n",
      "Before: [958 88 898 499 548 263 344 163 397 382]\r\n",
      "After:  [88 163 263 344 382 397 499 548 898 958]\r\n"
     ]
    }
   ],
   "source": [
    "! ./gomain merge-only +demo -time"
   ]
  },
  {
   "cell_type": "markdown",
   "metadata": {},
   "source": [
    "## Step 1: Run the program"
   ]
  },
  {
   "cell_type": "code",
   "execution_count": 6,
   "metadata": {},
   "outputs": [
    {
     "name": "stdout",
     "output_type": "stream",
     "text": [
      "\n",
      " Insertion Sort\n",
      "\n",
      "16:\t318 354 248 355 239 266 324 239 251 371 299 305 279 192 173 216 237 221 225 200 216 201 185 247 \n",
      "\n",
      "256:\t20567 21953 25104 21455 23957 23177 26655 23636 20470 23418 25373 25210 24226 20217 21556 24667 25827 24649 22892 25533 25812 27550 29094 16536 \n",
      "\n",
      "4096:\t6404151 6567607 6727738 3903819 6937844 10838469 6832822 11939966 6295864 6911289 6988663 11107912 6834456 7003394 6484485 11445198 4883427 7036252 5805757 5199019 6075076 7437817 9450425 8402630 \n",
      "\n",
      "65536:\t895359708 896986939 891101732 893164858 928371874 929999494 926777247 931598324 868534266 949054729 952300935 947507034 950645125 945948927 881349210 892833974 889499796 891201989 890218298 891808576 888560025 891601620 891319352 894933972 \n",
      "\n",
      "1048576:\t229238081625 240170080637 ^C\n"
     ]
    }
   ],
   "source": [
    "!./gomain equal-batches"
   ]
  },
  {
   "cell_type": "markdown",
   "metadata": {},
   "source": [
    "Just to be safe, list the contents of the directory to make sure the data files exist."
   ]
  },
  {
   "cell_type": "code",
   "execution_count": null,
   "metadata": {},
   "outputs": [],
   "source": [
    "!ls *.csv"
   ]
  },
  {
   "cell_type": "markdown",
   "metadata": {},
   "source": [
    "## Step 2: Prepare the data for processing"
   ]
  },
  {
   "cell_type": "markdown",
   "metadata": {},
   "source": [
    "Load the run-times into numpy arrays for processing.\n",
    "\n",
    "**Note that this will only work if the program was run with the `equal-batches` flag set.** Numpy requires that each row have the same number of columns."
   ]
  },
  {
   "cell_type": "code",
   "execution_count": null,
   "metadata": {},
   "outputs": [],
   "source": [
    "insertion = np.loadtxt(\n",
    "    './insertionsort.csv', dtype='int64', delimiter=',')\n",
    "merge = np.loadtxt(\n",
    "    './mergesort.csv', dtype='int64', delimiter=',')"
   ]
  },
  {
   "cell_type": "markdown",
   "metadata": {},
   "source": [
    "The data is stored in rows of the format $n, r_1, r_2, \\ldots r_i$, where $n$ is the size of the array, and $r_i$ is the run-time in nanoseconds of the $i^{\\textrm{th}}$ run, so a little data muging is necessary. The first column becomes the labels, and the subsequent columns are retained as data."
   ]
  },
  {
   "cell_type": "code",
   "execution_count": null,
   "metadata": {},
   "outputs": [],
   "source": [
    "insertion_labels = insertion[:, 0]\n",
    "insertion = insertion[:, 1:]\n",
    "merge_labels = merge[:, 0]\n",
    "merge = merge[:, 1:]"
   ]
  },
  {
   "cell_type": "markdown",
   "metadata": {},
   "source": [
    "The `*_labels` arrays *should* contain exactly the same data. If they don't, something has gone wrong. If they do, then it's safe to remove one of them and just use the other for all labels."
   ]
  },
  {
   "cell_type": "code",
   "execution_count": null,
   "metadata": {},
   "outputs": [],
   "source": [
    "if not np.all(insertion_labels == merge_labels):\n",
    "    raise ValueError(\n",
    "        \"The two data sets were not tested on arrays of the same sizes.\" +\n",
    "            \"\\n\\tInsertion Sort was tested with arrays of sizes:\\n\\t\\t\" +\n",
    "            str(insertion_labels) +\n",
    "            \"\\n\\tMerge Sort was tested with arrays of sizes:\\n\\t\\t\" +\n",
    "            str(merge_labels))\n",
    "else:\n",
    "    labels = insertion_labels.copy()\n",
    "    del merge_labels, insertion_labels"
   ]
  },
  {
   "cell_type": "markdown",
   "metadata": {},
   "source": [
    "Find the means of each run-time"
   ]
  },
  {
   "cell_type": "code",
   "execution_count": null,
   "metadata": {},
   "outputs": [],
   "source": [
    "insertion_mean, merge_mean = insertion.mean(axis=1), merge.mean(axis=1)"
   ]
  },
  {
   "cell_type": "markdown",
   "metadata": {},
   "source": [
    "## Step 3: Graph results"
   ]
  },
  {
   "cell_type": "code",
   "execution_count": null,
   "metadata": {
    "scrolled": false
   },
   "outputs": [],
   "source": [
    "plt.rcParams['figure.figsize'] = [10, 10]\n",
    "plt.plot(labels, insertion_mean, label='Insertion Sort')\n",
    "plt.plot(labels, merge_mean, label='Merge Sort')\n",
    "plt.legend()\n",
    "plt.xscale('log')\n",
    "plt.yscale('log')\n",
    "plt.xlabel(\"Array size $n$\")\n",
    "plt.ylabel('Run Time (ns)')\n",
    "plt.title(\"Average Run Times of Insertion Sort and Merge Sort Compared\")\n",
    "\n",
    "table = \"| $n$ | Insertion Sort | Merge Sort |\\n|:---|:---:|:---:|\\n\"\n",
    "for i in range(len(labels)):\n",
    "    table += \"| {n} | {ins:.5} | {ms:.5} |\\n\".format(\n",
    "        n=labels[i], \n",
    "        ins=insertion_mean[i], \n",
    "        ms=merge_mean[i]\n",
    "    )\n",
    "Markdown(table)"
   ]
  }
 ],
 "metadata": {
  "kernelspec": {
   "display_name": "Python 3",
   "language": "python",
   "name": "python3"
  },
  "language_info": {
   "codemirror_mode": {
    "name": "ipython",
    "version": 3
   },
   "file_extension": ".py",
   "mimetype": "text/x-python",
   "name": "python",
   "nbconvert_exporter": "python",
   "pygments_lexer": "ipython3",
   "version": "3.6.4"
  }
 },
 "nbformat": 4,
 "nbformat_minor": 2
}
