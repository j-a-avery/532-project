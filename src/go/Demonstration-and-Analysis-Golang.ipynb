{
 "cells": [
  {
   "cell_type": "markdown",
   "metadata": {},
   "source": [
    "# CSCI 532 Semester Project Demonstration and Analysis &mdash; Go Version\n",
    "\n",
    "James Avery"
   ]
  },
  {
   "cell_type": "markdown",
   "metadata": {},
   "source": [
    "## Problem #3"
   ]
  },
  {
   "cell_type": "markdown",
   "metadata": {},
   "source": [
    ">Write a C/C++/Matlab/Java program to compute insertion sort and merge sort. (You can use the code from the textbooks by Deitel and Deitel or from the web.) Obtain the run time of both routines.\n",
    "\n",
    ">The input data should be an int array containing random element values (between, say, 0 and 1023). Obtain run time T with 1D (input) array of size of $n = 16$, $256$, $4096$, $65536$, $1048576$ (i.e. $2^p$, where $p = 4$, $8$, $12$, $16$, $20$). The run time for each $n$ should be averaged with about $\\left\\lfloor{\\frac{512}{p \\times p}}\\right\\rfloor$ runs. Each run for a given $n$ should use a different random input.\n",
    "\n",
    ">Plot (with Excel, Matlab, or other available tools) the run time for both routines on one plot, with the $x$ axis in $p$ values, and $y$ axis in $\\log{T}$. Label on the plot which curve is for insertion sort and which is for merge sort.\n",
    "\n",
    ">Submit C/C++ programs and plot, with instructions in readme.txt on how to build and run the program. (Include the Dev-C++/MS Visual Studio/Java NetBeans project file.)"
   ]
  },
  {
   "cell_type": "markdown",
   "metadata": {},
   "source": [
    "In addition to the above, I also added a number of command line arguments to make testing more interactive:\n",
    "* `insertion-only`: Prevents merge sort from being run\n",
    "* `merge-only`: Prevents insertion sort from being run\n",
    "* `equal-batches`: Instead of running each sort $\\left\\lfloor\\frac{512}{p\\times{p}}\\right\\rfloor$ times, run in equal-sized batches. This takes a lot longer, but allows for more accurate analysis, as well as processing run-time data in Python using NumPy\n",
    "* `limit-n`: Limits the size of arrays to those that run quickly, i.e., arrays smaller than around 1 million items. This speeds testing the algorithms' run-times, especially when `equal-batches` is also used.\n",
    "* `demo-sorters`: Demonstrates the sorting routines (specifically that they actually do sort arrays).\n",
    "* `no-time`: Does not obtain run-times for the sorting algorithms (i.e. does not do what the assignment requires, in order to shorten run-times for `demo-sorters`.)"
   ]
  },
  {
   "cell_type": "markdown",
   "metadata": {},
   "source": [
    "In initial testing, I noticed that the C++ version, based on Deitel and Deitel's code, was *extremely* slow due to the use of C++11 `std::vector`s rather than C-style arrays. I researched how to parallelize code using C++11's `std::thread` API and the parallel merge sort routine in Cormen et al chapter 27, however the overhead of creating extra threads slowed the program even further and crashed sorting arrays of size $n = 2^{20}$. A better option would be to use `std::async` and futures to serially sort multiple vectors in parallel, but I was not able to grasp that API in time for the project.\n",
    "\n",
    "I had read before that Google's Go language has native support for concurrency, and after a few hours with the Go tutorials I decided to attempt to reimplement the project in Go. Converting the non-parallelized C++ code was straightforward, and I was able to redo several days' worth of C++ work in a few hours in Go. Go's goroutines and channels make implementing concurrent code reasonably simple. Furthermore, operations on Go's built-in array slice data structure (based on C-style arrays) are much faster than C++ `std::vector`s. Serial `slice`-based Go code ran an order of magnitude faster than `std::vector`-based C++ code, and parallelizing the execution further cut run-times approximately in half."
   ]
  },
  {
   "cell_type": "markdown",
   "metadata": {},
   "source": [
    "## Build the project"
   ]
  },
  {
   "cell_type": "markdown",
   "metadata": {},
   "source": [
    "The Go language version of the project is built with the command `go build` in a terminal or Windows PowerShell.\n",
    "\n",
    "In Linux: `go build -o gomain main.go`\n",
    "\n",
    "In Windows: `go build -o gomain.exe main.go`"
   ]
  },
  {
   "cell_type": "markdown",
   "metadata": {},
   "source": [
    "The code cell below checks to see if the executable exists, and builds it if it does not."
   ]
  },
  {
   "cell_type": "code",
   "execution_count": null,
   "metadata": {},
   "outputs": [],
   "source": [
    "import os\n",
    "import platform\n",
    "\n",
    "linux = platform.system() == \"Linux\"\n",
    "windows = platform.system() == \"Windows\"\n",
    "\n",
    "gomain_exists = os.access(\"gomain\", os.F_OK)\n",
    "gomainexe_exists = os.access(\"gomain\", os.F_OK)\n",
    "\n",
    "gomain_is_executable = os.access(\"gomain\", os.X_OK)\n",
    "gomainexe_is_executable = os.access(\"gomain.exe\", os.X_OK)\n",
    "\n",
    "if linux and gomain_is_executable:\n",
    "    print(\"Executable exists for Linux.\")\n",
    "elif linux and not gomain_is_executable and not gomain_exists:\n",
    "    print(\"Building for Linux\")\n",
    "    !go build -o gomain main.go\n",
    "    print(\"Done.\")\n",
    "elif windows and gomainexe_is_executable:\n",
    "    print(\"Executable exists for Windows.\")\n",
    "elif windows and not gomainexe_is_executable and not gomainexe_exists:\n",
    "    print(\"Building for Windows\")\n",
    "    !go build -o gomain.exe main.go\n",
    "    print(\"Done.\")\n",
    "else:\n",
    "    print(\"Either this is an unsupported OS, or something else is wrong.\")"
   ]
  },
  {
   "cell_type": "markdown",
   "metadata": {},
   "source": [
    "## Demonstrate that the sorters sort correctly"
   ]
  },
  {
   "cell_type": "markdown",
   "metadata": {},
   "source": [
    "Using a combination of the `demo-sorters` and `no-time` command line arguments, it is possible to demonstrate that the insertion sort and merge sort functions do indeed sort arrays into nondecreasing order."
   ]
  },
  {
   "cell_type": "markdown",
   "metadata": {},
   "source": [
    "### Insertion Sort"
   ]
  },
  {
   "cell_type": "code",
   "execution_count": null,
   "metadata": {
    "scrolled": false
   },
   "outputs": [],
   "source": [
    "if linux:\n",
    "    ! ./gomain demo-sorters insertion-only no-time\n",
    "elif windows:\n",
    "    ! gomain.exe demo-sorters merge-only no-time"
   ]
  },
  {
   "cell_type": "markdown",
   "metadata": {},
   "source": [
    "### Merge Sort"
   ]
  },
  {
   "cell_type": "code",
   "execution_count": null,
   "metadata": {},
   "outputs": [],
   "source": [
    "if linux:\n",
    "    ! ./gomain demo-sorters merge-only no-time\n",
    "elif windows:\n",
    "    ! gomain.exe demo-sorters merge-only no-time"
   ]
  },
  {
   "cell_type": "markdown",
   "metadata": {},
   "source": [
    "## Find Run-Times"
   ]
  },
  {
   "cell_type": "markdown",
   "metadata": {},
   "source": [
    "This is the main part of project as assigned, with one difference: for the analysis portion I run the sorters with the `equal-batches` flag, in order to use NumPy to analyze the data. The total run time to sort 24 vectors of 5 sizes using both algorithms is around 45 minutes on an i7-8700 with 16 GB of RAM."
   ]
  },
  {
   "cell_type": "markdown",
   "metadata": {},
   "source": [
    "### Insertion Sort"
   ]
  },
  {
   "cell_type": "code",
   "execution_count": null,
   "metadata": {
    "scrolled": false
   },
   "outputs": [],
   "source": [
    "if linux:\n",
    "    !./gomain insertion-only equal-batches\n",
    "elif windows:\n",
    "    ! gomain.exe insertion-only equal-batches"
   ]
  },
  {
   "cell_type": "markdown",
   "metadata": {},
   "source": [
    "### Merge Sort"
   ]
  },
  {
   "cell_type": "code",
   "execution_count": null,
   "metadata": {},
   "outputs": [],
   "source": [
    "if linux:\n",
    "    !./gomain merge-only equal-batches\n",
    "elif windows:\n",
    "    ! gomain.exe insertion-only equal-batches"
   ]
  },
  {
   "cell_type": "markdown",
   "metadata": {},
   "source": [
    "## Prepare the data for processing"
   ]
  },
  {
   "cell_type": "markdown",
   "metadata": {},
   "source": [
    "Load the run-times into numpy arrays for processing. (Note that NumPy requires each row of an array to be the same length, so this only works if the program was run with `equal-batches` as above.)"
   ]
  },
  {
   "cell_type": "code",
   "execution_count": null,
   "metadata": {},
   "outputs": [],
   "source": [
    "import numpy as np\n",
    "\n",
    "insertion = np.loadtxt(\n",
    "    './insertionsort.csv', dtype='uint64', delimiter=',')\n",
    "merge = np.loadtxt(\n",
    "    './mergesort.csv', dtype='uint64', delimiter=',')"
   ]
  },
  {
   "cell_type": "markdown",
   "metadata": {},
   "source": [
    "The data is stored in rows of the format $n, r_1, r_2, \\ldots r_i$, where $n$ is the size of the array, and $r_i$ is the run-time in nanoseconds of the $i^{\\textrm{th}}$ run, so a little data muging is necessary. The first column becomes the labels, and the subsequent columns are retained as data."
   ]
  },
  {
   "cell_type": "code",
   "execution_count": null,
   "metadata": {},
   "outputs": [],
   "source": [
    "insertion_labels = insertion[:, 0]\n",
    "insertion = insertion[:, 1:]\n",
    "merge_labels = merge[:, 0]\n",
    "merge = merge[:, 1:]"
   ]
  },
  {
   "cell_type": "markdown",
   "metadata": {},
   "source": [
    "The `*_labels` arrays *should* contain exactly the same data. If they don't, something has gone wrong. If they do, then it's safe to remove one of them and just use the other for all labels."
   ]
  },
  {
   "cell_type": "code",
   "execution_count": null,
   "metadata": {},
   "outputs": [],
   "source": [
    "if not np.all(insertion_labels == merge_labels):\n",
    "    raise ValueError(\n",
    "        \"The two data sets were not tested on arrays of the same sizes.\" +\n",
    "            \"\\n\\tInsertion Sort was tested with arrays of sizes:\\n\\t\\t\" +\n",
    "            str(insertion_labels) +\n",
    "            \"\\n\\tMerge Sort was tested with arrays of sizes:\\n\\t\\t\" +\n",
    "            str(merge_labels))\n",
    "else:\n",
    "    labels = insertion_labels.copy()\n",
    "    del merge_labels, insertion_labels"
   ]
  },
  {
   "cell_type": "markdown",
   "metadata": {},
   "source": [
    "Find the mean run time for each vector size and each algorithm."
   ]
  },
  {
   "cell_type": "code",
   "execution_count": null,
   "metadata": {},
   "outputs": [],
   "source": [
    "insertion_mean, merge_mean = insertion.mean(axis=1), merge.mean(axis=1)"
   ]
  },
  {
   "cell_type": "markdown",
   "metadata": {},
   "source": [
    "## Graph the results"
   ]
  },
  {
   "cell_type": "code",
   "execution_count": null,
   "metadata": {
    "scrolled": false
   },
   "outputs": [],
   "source": [
    "import matplotlib.pyplot as plt\n",
    "import IPython\n",
    "\n",
    "plt.rcParams['figure.figsize'] = [10, 10]\n",
    "plt.plot(labels, insertion_mean, label='Insertion Sort')\n",
    "plt.plot(labels, merge_mean, label='Merge Sort')\n",
    "plt.legend()\n",
    "plt.xscale('log')\n",
    "plt.yscale('log')\n",
    "plt.xlabel(\"Array size $n$\")\n",
    "plt.ylabel('Run Time (ns)')\n",
    "plt.title(\"Average Run Times of Insertion Sort and Merge Sort Compared\")\n",
    "\n",
    "table = \"| $n$ | Insertion Sort | Merge Sort |\\n|:---|:---:|:---:|\\n\"\n",
    "for i in range(len(labels)):\n",
    "    table += \"| {n} | {ins:.5} | {ms:.5} |\\n\".format(\n",
    "        n=labels[i], \n",
    "        ins=insertion_mean[i], \n",
    "        ms=merge_mean[i]\n",
    "    )\n",
    "IPython.display.Markdown(table)"
   ]
  },
  {
   "cell_type": "code",
   "execution_count": null,
   "metadata": {},
   "outputs": [],
   "source": []
  }
 ],
 "metadata": {
  "kernelspec": {
   "display_name": "Python 3",
   "language": "python",
   "name": "python3"
  },
  "language_info": {
   "codemirror_mode": {
    "name": "ipython",
    "version": 3
   },
   "file_extension": ".py",
   "mimetype": "text/x-python",
   "name": "python",
   "nbconvert_exporter": "python",
   "pygments_lexer": "ipython3",
   "version": "3.6.4"
  }
 },
 "nbformat": 4,
 "nbformat_minor": 2
}
