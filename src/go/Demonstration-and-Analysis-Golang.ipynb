{
 "cells": [
  {
   "cell_type": "markdown",
   "metadata": {},
   "source": [
    "# CSCI 532 Semester Project Demonstration and Analysis &mdash; Go Version\n",
    "\n",
    "James Avery"
   ]
  },
  {
   "cell_type": "markdown",
   "metadata": {},
   "source": [
    "## Problem #3"
   ]
  },
  {
   "cell_type": "markdown",
   "metadata": {},
   "source": [
    ">Write a C/C++/Matlab/Java program to compute insertion sort and merge sort. (You can use the code from the textbooks by Deitel and Deitel or from the web.) Obtain the run time of both routines.\n",
    "\n",
    ">The input data should be an int array containing random element values (between, say, 0 and 1023). Obtain run time T with 1D (input) array of size of $n = 16$, $256$, $4096$, $65536$, $1048576$ (i.e. $2^p$, where $p = 4$, $8$, $12$, $16$, $20$). The run time for each $n$ should be averaged with about $\\left\\lfloor{\\frac{512}{p \\times p}}\\right\\rfloor$ runs. Each run for a given $n$ should use a different random input.\n",
    "\n",
    ">Plot (with Excel, Matlab, or other available tools) the run time for both routines on one plot, with the $x$ axis in $p$ values, and $y$ axis in $\\log{T}$. Label on the plot which curve is for insertion sort and which is for merge sort.\n",
    "\n",
    ">Submit C/C++ programs and plot, with instructions in readme.txt on how to build and run the program. (Include the Dev-C++/MS Visual Studio/Java NetBeans project file.)"
   ]
  },
  {
   "cell_type": "markdown",
   "metadata": {},
   "source": [
    "In addition to the above, I also added a number of command line arguments to make testing more interactive:\n",
    "* `insertion-only`: Prevents merge sort from being run\n",
    "* `merge-only`: Prevents insertion sort from being run\n",
    "* `equal-batches`: Instead of running each sort $\\left\\lfloor\\frac{512}{p\\times{p}}\\right\\rfloor$ times, run in equal-sized batches. This takes a lot longer, but allows for more accurate analysis, as well as processing run-time data in Python using NumPy\n",
    "* `limit-n`: Limits the size of arrays to those that run quickly, i.e., arrays smaller than around 1 million items. This speeds testing the algorithms' run-times, especially when `equal-batches` is also used.\n",
    "* `demo-sorters`: Demonstrates the sorting routines (specifically that they actually do sort arrays).\n",
    "* `no-time`: Does not obtain run-times for the sorting algorithms (i.e. does not do what the assignment requires, in order to shorten run-times for `demo-sorters`.)"
   ]
  },
  {
   "cell_type": "markdown",
   "metadata": {},
   "source": [
    "In initial testing, I noticed that the C++ version, based on Deitel and Deitel's code, was *extremely* slow due to the use of C++11 `std::vector`s rather than C-style arrays. I researched how to parallelize code using C++11's `std::thread` API and the parallel merge sort routine in Cormen et al chapter 27, however the overhead of creating extra threads slowed the program even further and crashed sorting arrays of size $n = 2^{20}$. A better option would be to use `std::async` and futures to serially sort multiple vectors in parallel, but I was not able to grasp that API in time for the project.\n",
    "\n",
    "I had read before that Google's Go language has native support for concurrency, and after a few hours with the Go tutorials I decided to attempt to reimplement the project in Go. Converting the non-parallelized C++ code was straightforward, and I was able to redo several days' worth of C++ work in a few hours in Go. Go's goroutines and channels make implementing concurrent code reasonably simple. Furthermore, operations on Go's built-in array slice data structure (based on C-style arrays) are much faster than C++ `std::vector`s. Serial `slice`-based Go code runs an order of magnitude faster than `std::vector`-based C++ code, and parallelizing the execution cut serial run-times in half. The simulation below runs in about 45 minutes in Go, but takes around 9 hours in C++ on my computer (Intel i7 8700 with 16 GB of RAM)."
   ]
  },
  {
   "cell_type": "markdown",
   "metadata": {},
   "source": [
    "## Build the project"
   ]
  },
  {
   "cell_type": "markdown",
   "metadata": {},
   "source": [
    "The Go language version of the project is built with the command `go build` in a terminal or Windows PowerShell.\n",
    "\n",
    "In Linux: `go build -o gomain main.go`\n",
    "\n",
    "In Windows: `go build -o gomain.exe main.go` Note that in Windows, Go is not able to record time with precision lower than 1$\\mu$s, so very fast sorts are reported as 0. For this reason, running the program in Linux is *strongly* recommended."
   ]
  },
  {
   "cell_type": "markdown",
   "metadata": {},
   "source": [
    "The code cell below checks to see if the executable exists, and builds it if it does not."
   ]
  },
  {
   "cell_type": "code",
   "execution_count": 20,
   "metadata": {},
   "outputs": [
    {
     "name": "stdout",
     "output_type": "stream",
     "text": [
      "Building for Linux\n",
      "Done.\n"
     ]
    }
   ],
   "source": [
    "import os\n",
    "import platform\n",
    "\n",
    "# Determine which operating system we're running under\n",
    "linux = platform.system() == \"Linux\"\n",
    "windows = platform.system() == \"Windows\"\n",
    "\n",
    "# Determine if an executable exists\n",
    "gomain_exists = os.access(\"gomain\", os.F_OK)\n",
    "gomainexe_exists = os.access(\"gomain\", os.F_OK)\n",
    "\n",
    "# Determine if the executable is actually executable\n",
    "gomain_is_executable = os.access(\"gomain\", os.X_OK)\n",
    "gomainexe_is_executable = os.access(\"gomain.exe\", os.X_OK)\n",
    "\n",
    "# If the file does not exist or is not executable, then build it\n",
    "if linux and gomain_is_executable:\n",
    "    print(\"Executable exists for Linux.\")\n",
    "elif linux and (not gomain_is_executable or not gomain_exists):\n",
    "    print(\"Building for Linux\")\n",
    "    !go build -o gomain main.go\n",
    "    print(\"Done.\")\n",
    "elif windows and gomainexe_is_executable:\n",
    "    print(\"Executable exists for Windows.\")\n",
    "elif windows and (not gomainexe_is_executable or not gomainexe_exists):\n",
    "    print(\"Building for Windows\")\n",
    "    !go build -o gomain.exe main.go\n",
    "    print(\"Done.\")\n",
    "else:\n",
    "    print(\"Either this is an unsupported OS, or something else is wrong.\")"
   ]
  },
  {
   "cell_type": "markdown",
   "metadata": {},
   "source": [
    "## Demonstrate that the sorters sort correctly"
   ]
  },
  {
   "cell_type": "markdown",
   "metadata": {},
   "source": [
    "Using a combination of the `demo-sorters` and `no-time` command line arguments, it is possible to demonstrate that the insertion sort and merge sort functions do indeed sort arrays into nondecreasing order."
   ]
  },
  {
   "cell_type": "markdown",
   "metadata": {},
   "source": [
    "### Insertion Sort"
   ]
  },
  {
   "cell_type": "code",
   "execution_count": 2,
   "metadata": {
    "scrolled": false
   },
   "outputs": [
    {
     "name": "stdout",
     "output_type": "stream",
     "text": [
      "\r\n",
      "=====  Demonstrating Insertion Sort  =====\r\n",
      "\r\n",
      "Before: [545 527 455 187 385 390 825 684 840 932]\r\n",
      "After:  [187 385 390 455 527 545 684 825 840 932]\r\n",
      "\r\n",
      "Before: [198 687 930 1009 344 282 651 149 805 994]\r\n",
      "After:  [149 198 282 344 651 687 805 930 994 1009]\r\n",
      "\r\n",
      "Before: [783 218 616 658 127 299 47 248 54 1015]\r\n",
      "After:  [47 54 127 218 248 299 616 658 783 1015]\r\n",
      "\r\n",
      "Before: [821 888 475 783 933 332 41 1015 765 914]\r\n",
      "After:  [41 332 475 765 783 821 888 914 933 1015]\r\n",
      "\r\n",
      "Before: [653 658 970 835 497 915 990 740 383 89]\r\n",
      "After:  [89 383 497 653 658 740 835 915 970 990]\r\n",
      "\r\n",
      "Before: [789 585 501 151 168 529 712 762 871 939]\r\n",
      "After:  [151 168 501 529 585 712 762 789 871 939]\r\n",
      "\r\n",
      "Before: [771 30 189 412 362 932 489 130 671 290]\r\n",
      "After:  [30 130 189 290 362 412 489 671 771 932]\r\n",
      "\r\n",
      "Before: [587 744 234 758 359 38 457 519 124 180]\r\n",
      "After:  [38 124 180 234 359 457 519 587 744 758]\r\n",
      "\r\n",
      "Before: [799 889 257 925 905 43 489 915 515 178]\r\n",
      "After:  [43 178 257 489 515 799 889 905 915 925]\r\n",
      "\r\n",
      "Before: [958 88 898 499 548 263 344 163 397 382]\r\n",
      "After:  [88 163 263 344 382 397 499 548 898 958]\r\n"
     ]
    }
   ],
   "source": [
    "if linux:\n",
    "    ! ./gomain demo-sorters insertion-only no-time\n",
    "elif windows:\n",
    "    ! gomain.exe demo-sorters merge-only no-time"
   ]
  },
  {
   "cell_type": "markdown",
   "metadata": {},
   "source": [
    "### Merge Sort"
   ]
  },
  {
   "cell_type": "code",
   "execution_count": 3,
   "metadata": {},
   "outputs": [
    {
     "name": "stdout",
     "output_type": "stream",
     "text": [
      "\r\n",
      "=====  Demonstrating Merge Sort  =====\r\n",
      "\r\n",
      "Before: [545 527 455 187 385 390 825 684 840 932]\r\n",
      "After:  [187 385 390 455 527 545 684 825 840 932]\r\n",
      "\r\n",
      "Before: [198 687 930 1009 344 282 651 149 805 994]\r\n",
      "After:  [149 198 282 344 651 687 805 930 994 1009]\r\n",
      "\r\n",
      "Before: [783 218 616 658 127 299 47 248 54 1015]\r\n",
      "After:  [47 54 127 218 248 299 616 658 783 1015]\r\n",
      "\r\n",
      "Before: [821 888 475 783 933 332 41 1015 765 914]\r\n",
      "After:  [41 332 475 765 783 821 888 914 933 1015]\r\n",
      "\r\n",
      "Before: [653 658 970 835 497 915 990 740 383 89]\r\n",
      "After:  [89 383 497 653 658 740 835 915 970 990]\r\n",
      "\r\n",
      "Before: [789 585 501 151 168 529 712 762 871 939]\r\n",
      "After:  [151 168 501 529 585 712 762 789 871 939]\r\n",
      "\r\n",
      "Before: [771 30 189 412 362 932 489 130 671 290]\r\n",
      "After:  [30 130 189 290 362 412 489 671 771 932]\r\n",
      "\r\n",
      "Before: [587 744 234 758 359 38 457 519 124 180]\r\n",
      "After:  [38 124 180 234 359 457 519 587 744 758]\r\n",
      "\r\n",
      "Before: [799 889 257 925 905 43 489 915 515 178]\r\n",
      "After:  [43 178 257 489 515 799 889 905 915 925]\r\n",
      "\r\n",
      "Before: [958 88 898 499 548 263 344 163 397 382]\r\n",
      "After:  [88 163 263 344 382 397 499 548 898 958]\r\n"
     ]
    }
   ],
   "source": [
    "if linux:\n",
    "    ! ./gomain demo-sorters merge-only no-time\n",
    "elif windows:\n",
    "    ! gomain.exe demo-sorters merge-only no-time"
   ]
  },
  {
   "cell_type": "markdown",
   "metadata": {},
   "source": [
    "## Find Run-Times"
   ]
  },
  {
   "cell_type": "markdown",
   "metadata": {},
   "source": [
    "This is the main part of project as assigned, with one difference: for the analysis portion with Go I will run the sorters with the `equal-batches` flag. The total run time to sort 24 vectors of 5 sizes using both algorithms is around 45 minutes on a fast computer."
   ]
  },
  {
   "cell_type": "markdown",
   "metadata": {},
   "source": [
    "### Insertion Sort"
   ]
  },
  {
   "cell_type": "code",
   "execution_count": 4,
   "metadata": {
    "scrolled": false
   },
   "outputs": [
    {
     "name": "stdout",
     "output_type": "stream",
     "text": [
      "\n",
      " Insertion Sort\n",
      "\n",
      "16:\t1686 1582 1207 1146 1015 1073 1143 898 1357 1337 1182 982 849 1068 1389 1236 724 1171 1270 999 916 1124 1396 1181 \n",
      "\n",
      "256:\t51843 64857 70407 56515 99977 107206 118514 94816 61941 110186 68559 82899 76665 63522 97666 54791 62013 62159 102952 55447 57003 78656 94081 60601 \n",
      "\n",
      "4096:\t11418666 13861437 14468685 15428230 15486188 15438344 15195752 15843800 15166712 14924065 9722887 17079095 10931245 9687711 9573470 8198074 9210489 9596277 8630520 9203230 8741297 12369262 7480015 4986462 \n",
      "\n",
      "65536:\t944504333 947986830 946264717 943051753 1000777037 998540395 1003005837 996209764 993944368 1380961473 1382529531 1385917437 1387515670 1384121654 1379362710 1361424986 1366166582 1369384561 1367823842 1363078871 1370967107 1364620109 898237680 917904773 \n",
      "\n",
      "1048576:\t228852509901 230545666372 242950970898 242977851558 239265620418 239291677805 264745621343 264800396597 264771164289 314955679707 314929749758 314981039848 315008050691 405443316849 405469122051 405392179816 405417888820 405495195535 394010406796 394035649931 393983697159 393926741390 393951782559 221855489191 \n"
     ]
    }
   ],
   "source": [
    "if linux:\n",
    "    !./gomain insertion-only equal-batches\n",
    "elif windows:\n",
    "    ! gomain.exe insertion-only equal-batches"
   ]
  },
  {
   "cell_type": "markdown",
   "metadata": {},
   "source": [
    "### Merge Sort"
   ]
  },
  {
   "cell_type": "code",
   "execution_count": 5,
   "metadata": {},
   "outputs": [
    {
     "name": "stdout",
     "output_type": "stream",
     "text": [
      "\n",
      " Merge Sort\n",
      "\n",
      "16:\t1446 1216 1169 1108 1074 1203 1114 6239 1084 1011 1278 1099 1225 1079 12038 1274 1089 1204 1135 1121 2038 1072 13053 8388 \n",
      "\n",
      "256:\t35989 52226 55283 48114 43578 35112 39543 93139 38165 37318 38701 37240 36810 67623 37454 37043 40618 57893 37193 29721 64989 47829 57444 57771 \n",
      "\n",
      "4096:\t597220 812523 573664 626165 1976099 2413183 2347512 2768977 2908726 1605743 3090222 3071282 3070550 1107349 1350401 1283794 1236951 1154511 1360911 527070 602122 778044 548086 895322 \n",
      "\n",
      "65536:\t14143821 14490763 16181056 15723287 14387238 13821691 15527861 15168650 14375954 15607430 14972163 15638992 16677569 18454764 16959266 15130115 14814497 16599703 15450932 13421121 12899375 12805103 13638507 12201965 \n",
      "\n",
      "1048576:\t181538844 206636089 205349016 212508486 205676507 219840945 213658406 215107279 200278224 213347379 213968957 218699600 208881571 205115908 208187612 196549673 203844384 204098676 216906895 208822412 200562246 194872104 182479074 185654210 \n"
     ]
    }
   ],
   "source": [
    "if linux:\n",
    "    !./gomain merge-only equal-batches\n",
    "elif windows:\n",
    "    ! gomain.exe merge-only equal-batches"
   ]
  },
  {
   "cell_type": "markdown",
   "metadata": {},
   "source": [
    "## Prepare the data for processing"
   ]
  },
  {
   "cell_type": "markdown",
   "metadata": {},
   "source": [
    "Load the run-times into Pandas dataframes for processing."
   ]
  },
  {
   "cell_type": "code",
   "execution_count": 6,
   "metadata": {},
   "outputs": [],
   "source": [
    "import numpy as np\n",
    "import pandas as pd\n",
    "import IPython as ipy\n",
    "\n",
    "insertion = pd.read_table('insertionsort.csv', \n",
    "                          sep=',', header=None, index_col=0)\n",
    "merge = pd.read_table('mergesort.csv', \n",
    "                      sep=',', header=None, index_col=0)"
   ]
  },
  {
   "cell_type": "markdown",
   "metadata": {},
   "source": [
    "#### Insertion Sort Run Times"
   ]
  },
  {
   "cell_type": "code",
   "execution_count": 16,
   "metadata": {},
   "outputs": [
    {
     "data": {
      "text/html": [
       "<table border=\"1\" class=\"dataframe\">\n",
       "  <tbody>\n",
       "    <tr>\n",
       "      <th>16</th>\n",
       "      <td>1582</td>\n",
       "      <td>1146</td>\n",
       "      <td>1073</td>\n",
       "      <td>898</td>\n",
       "      <td>...</td>\n",
       "      <td>1171</td>\n",
       "      <td>999</td>\n",
       "      <td>1124</td>\n",
       "      <td>1181</td>\n",
       "    </tr>\n",
       "    <tr>\n",
       "      <th>256</th>\n",
       "      <td>64857</td>\n",
       "      <td>56515</td>\n",
       "      <td>107206</td>\n",
       "      <td>94816</td>\n",
       "      <td>...</td>\n",
       "      <td>62159</td>\n",
       "      <td>55447</td>\n",
       "      <td>78656</td>\n",
       "      <td>60601</td>\n",
       "    </tr>\n",
       "    <tr>\n",
       "      <th>4096</th>\n",
       "      <td>13861437</td>\n",
       "      <td>15428230</td>\n",
       "      <td>15438344</td>\n",
       "      <td>15843800</td>\n",
       "      <td>...</td>\n",
       "      <td>9596277</td>\n",
       "      <td>9203230</td>\n",
       "      <td>12369262</td>\n",
       "      <td>4986462</td>\n",
       "    </tr>\n",
       "    <tr>\n",
       "      <th>65536</th>\n",
       "      <td>947986830</td>\n",
       "      <td>943051753</td>\n",
       "      <td>998540395</td>\n",
       "      <td>996209764</td>\n",
       "      <td>...</td>\n",
       "      <td>1369384561</td>\n",
       "      <td>1363078871</td>\n",
       "      <td>1364620109</td>\n",
       "      <td>917904773</td>\n",
       "    </tr>\n",
       "    <tr>\n",
       "      <th>1048576</th>\n",
       "      <td>230545666372</td>\n",
       "      <td>242977851558</td>\n",
       "      <td>239291677805</td>\n",
       "      <td>264800396597</td>\n",
       "      <td>...</td>\n",
       "      <td>405495195535</td>\n",
       "      <td>394010406796</td>\n",
       "      <td>393926741390</td>\n",
       "      <td>221855489191</td>\n",
       "    </tr>\n",
       "  </tbody>\n",
       "</table>"
      ],
      "text/plain": [
       "<IPython.core.display.HTML object>"
      ]
     },
     "metadata": {},
     "output_type": "display_data"
    }
   ],
   "source": [
    "ipy.display.display(\n",
    "    ipy.display.HTML(\n",
    "        insertion.to_html(na_rep='', max_cols=8, header=False)))"
   ]
  },
  {
   "cell_type": "markdown",
   "metadata": {},
   "source": [
    "#### Merge Sort Run Times"
   ]
  },
  {
   "cell_type": "code",
   "execution_count": 15,
   "metadata": {},
   "outputs": [
    {
     "data": {
      "text/html": [
       "<table border=\"1\" class=\"dataframe\">\n",
       "  <tbody>\n",
       "    <tr>\n",
       "      <th>16</th>\n",
       "      <td>1216</td>\n",
       "      <td>1108</td>\n",
       "      <td>1203</td>\n",
       "      <td>6239</td>\n",
       "      <td>1011</td>\n",
       "      <td>...</td>\n",
       "      <td>12038</td>\n",
       "      <td>1204</td>\n",
       "      <td>1121</td>\n",
       "      <td>1072</td>\n",
       "      <td>8388</td>\n",
       "    </tr>\n",
       "    <tr>\n",
       "      <th>256</th>\n",
       "      <td>52226</td>\n",
       "      <td>48114</td>\n",
       "      <td>35112</td>\n",
       "      <td>93139</td>\n",
       "      <td>37318</td>\n",
       "      <td>...</td>\n",
       "      <td>37043</td>\n",
       "      <td>57893</td>\n",
       "      <td>29721</td>\n",
       "      <td>47829</td>\n",
       "      <td>57771</td>\n",
       "    </tr>\n",
       "    <tr>\n",
       "      <th>4096</th>\n",
       "      <td>812523</td>\n",
       "      <td>626165</td>\n",
       "      <td>2413183</td>\n",
       "      <td>2768977</td>\n",
       "      <td>1605743</td>\n",
       "      <td>...</td>\n",
       "      <td>1283794</td>\n",
       "      <td>1154511</td>\n",
       "      <td>527070</td>\n",
       "      <td>778044</td>\n",
       "      <td>895322</td>\n",
       "    </tr>\n",
       "    <tr>\n",
       "      <th>65536</th>\n",
       "      <td>14490763</td>\n",
       "      <td>15723287</td>\n",
       "      <td>13821691</td>\n",
       "      <td>15168650</td>\n",
       "      <td>15607430</td>\n",
       "      <td>...</td>\n",
       "      <td>15130115</td>\n",
       "      <td>16599703</td>\n",
       "      <td>13421121</td>\n",
       "      <td>12805103</td>\n",
       "      <td>12201965</td>\n",
       "    </tr>\n",
       "    <tr>\n",
       "      <th>1048576</th>\n",
       "      <td>206636089</td>\n",
       "      <td>212508486</td>\n",
       "      <td>219840945</td>\n",
       "      <td>215107279</td>\n",
       "      <td>213347379</td>\n",
       "      <td>...</td>\n",
       "      <td>196549673</td>\n",
       "      <td>204098676</td>\n",
       "      <td>208822412</td>\n",
       "      <td>194872104</td>\n",
       "      <td>185654210</td>\n",
       "    </tr>\n",
       "  </tbody>\n",
       "</table>"
      ],
      "text/plain": [
       "<IPython.core.display.HTML object>"
      ]
     },
     "metadata": {},
     "output_type": "display_data"
    }
   ],
   "source": [
    "ipy.display.display(\n",
    "    ipy.display.HTML(\n",
    "        merge.to_html(na_rep='', max_cols=10, header=False)))"
   ]
  },
  {
   "cell_type": "markdown",
   "metadata": {},
   "source": [
    "Calculate the mean of each row, discarding missing columns."
   ]
  },
  {
   "cell_type": "code",
   "execution_count": 9,
   "metadata": {},
   "outputs": [],
   "source": [
    "insertion_mean = insertion.mean(axis=1).as_matrix()\n",
    "merge_mean = merge.mean(axis=1).as_matrix()"
   ]
  },
  {
   "cell_type": "markdown",
   "metadata": {},
   "source": [
    "The data is stored in rows of the format $n, r_1, r_2, \\ldots r_i$, where $n$ is the size of the array, and $r_i$ is the run-time in nanoseconds of the $i^{\\textrm{th}}$ run, so extract the first row as $x$ values for the graph."
   ]
  },
  {
   "cell_type": "code",
   "execution_count": 10,
   "metadata": {},
   "outputs": [],
   "source": [
    "insertion_xs = insertion.index.tolist()\n",
    "merge_xs = merge.index.tolist()\n",
    "\n",
    "if insertion_xs != merge_xs:\n",
    "    raise ValueError(\n",
    "        \"The two data sets were not tested on arrays of the same sizes.\" +\n",
    "            \"\\n\\tInsertion Sort was tested with arrays of sizes:\\n\\t\\t\" +\n",
    "            str(insertion_xs) +\n",
    "           \"\\n\\tMerge Sort was tested with arrays of sizes:\\n\\t\\t\" +\n",
    "            str(merge_xs))\n",
    "else:\n",
    "    xs = np.array(insertion_xs.copy())\n",
    "    del insertion_xs, merge_xs"
   ]
  },
  {
   "cell_type": "markdown",
   "metadata": {},
   "source": [
    "## Graph the results"
   ]
  },
  {
   "cell_type": "code",
   "execution_count": 18,
   "metadata": {},
   "outputs": [
    {
     "data": {
      "image/png": "[encoded data removed]",
      "text/plain": [
       "<matplotlib.figure.Figure at 0x7fcc032319b0>"
      ]
     },
     "metadata": {},
     "output_type": "display_data"
    }
   ],
   "source": [
    "import matplotlib.pyplot as plt\n",
    "import IPython\n",
    "\n",
    "plt.rcParams['figure.figsize'] = [10, 10]\n",
    "plt.plot(xs, insertion_mean, label='Insertion Sort')\n",
    "plt.plot(xs, merge_mean, label='Merge Sort')\n",
    "plt.legend()\n",
    "plt.xscale('log')\n",
    "plt.yscale('log')\n",
    "plt.xlabel(\"Array size $n$\")\n",
    "plt.ylabel('Run Time (ns)')\n",
    "plt.title(\"Average Run Times of Insertion Sort and Merge Sort Compared\")\n",
    "plt.show()"
   ]
  },
  {
   "cell_type": "code",
   "execution_count": 11,
   "metadata": {
    "scrolled": false
   },
   "outputs": [
    {
     "data": {
      "text/plain": [
       "<matplotlib.figure.Figure at 0x7fcc1889a0b8>"
      ]
     },
     "metadata": {},
     "output_type": "display_data"
    },
    {
     "data": {
      "text/markdown": [
       "| $n$ | Insertion Sort | Merge Sort |\n",
       "|:---|:---:|:---:|\n",
       "| 16 | 1149.8 | 3064.8 |\n",
       "| 256 | 7.4305e+04 | 5.0086e+04 |\n",
       "| 4096 | 1.2218e+07 | 1.4203e+06 |\n",
       "| 65536 | 1.2014e+09 | 1.4922e+07 |\n",
       "| 1048576 | 3.1947e+11 | 2.0677e+08 |\n"
      ],
      "text/plain": [
       "<IPython.core.display.Markdown object>"
      ]
     },
     "execution_count": 11,
     "metadata": {},
     "output_type": "execute_result"
    }
   ],
   "source": [
    "table = \"| $n$ | Insertion Sort | Merge Sort |\\n|:---|:---:|:---:|\\n\"\n",
    "for i in range(len(xs)):\n",
    "    table += \"| {n} | {ins:.5} | {ms:.5} |\\n\".format(\n",
    "        n=xs[i], \n",
    "        ins=insertion_mean[i], \n",
    "        ms=merge_mean[i]\n",
    "    )\n",
    "IPython.display.Markdown(table)"
   ]
  },
  {
   "cell_type": "markdown",
   "metadata": {},
   "source": [
    "## Notebook Cleanup/Additional Information"
   ]
  },
  {
   "cell_type": "markdown",
   "metadata": {},
   "source": [
    "### This document was created with the following software versions:"
   ]
  },
  {
   "cell_type": "code",
   "execution_count": 12,
   "metadata": {},
   "outputs": [
    {
     "name": "stdout",
     "output_type": "stream",
     "text": [
      "\n",
      "INSTALLED VERSIONS\n",
      "------------------\n",
      "commit: None\n",
      "python: 3.6.4.final.0\n",
      "python-bits: 64\n",
      "OS: Linux\n",
      "OS-release: 4.13.0-38-lowlatency\n",
      "machine: x86_64\n",
      "processor: x86_64\n",
      "byteorder: little\n",
      "LC_ALL: None\n",
      "LANG: en_US.UTF-8\n",
      "LOCALE: en_US.UTF-8\n",
      "\n",
      "pandas: 0.22.0\n",
      "pytest: 3.3.2\n",
      "pip: 9.0.1\n",
      "setuptools: 38.4.0\n",
      "Cython: 0.27.3\n",
      "numpy: 1.14.0\n",
      "scipy: 1.0.0\n",
      "pyarrow: None\n",
      "xarray: None\n",
      "IPython: 6.2.1\n",
      "sphinx: 1.6.6\n",
      "patsy: 0.5.0\n",
      "dateutil: 2.6.1\n",
      "pytz: 2017.3\n",
      "blosc: None\n",
      "bottleneck: 1.2.1\n",
      "tables: 3.4.2\n",
      "numexpr: 2.6.4\n",
      "feather: None\n",
      "matplotlib: 2.1.2\n",
      "openpyxl: 2.4.10\n",
      "xlrd: 1.1.0\n",
      "xlwt: 1.3.0\n",
      "xlsxwriter: 1.0.2\n",
      "lxml: 4.1.1\n",
      "bs4: 4.6.0\n",
      "html5lib: 0.9999999\n",
      "sqlalchemy: 1.2.1\n",
      "pymysql: None\n",
      "psycopg2: None\n",
      "jinja2: 2.10\n",
      "s3fs: None\n",
      "fastparquet: None\n",
      "pandas_gbq: None\n",
      "pandas_datareader: None\n"
     ]
    }
   ],
   "source": [
    "pd.show_versions()"
   ]
  },
  {
   "cell_type": "code",
   "execution_count": 21,
   "metadata": {},
   "outputs": [
    {
     "data": {
      "application/javascript": [
       "// Hide \"In [*]\" prompts in notebook.\n",
       "$('div.prompt').hide();"
      ],
      "text/plain": [
       "<IPython.core.display.Javascript object>"
      ]
     },
     "metadata": {},
     "output_type": "display_data"
    }
   ],
   "source": [
    "%%javascript\n",
    "// Hide \"In [*]\" prompts in notebook.\n",
    "$('div.prompt').hide();"
   ]
  }
 ],
 "metadata": {
  "kernelspec": {
   "display_name": "Python 3",
   "language": "python",
   "name": "python3"
  },
  "language_info": {
   "codemirror_mode": {
    "name": "ipython",
    "version": 3
   },
   "file_extension": ".py",
   "mimetype": "text/x-python",
   "name": "python",
   "nbconvert_exporter": "python",
   "pygments_lexer": "ipython3",
   "version": "3.6.4"
  }
 },
 "nbformat": 4,
 "nbformat_minor": 2
}
