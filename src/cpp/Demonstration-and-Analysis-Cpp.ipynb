{
 "cells": [
  {
   "cell_type": "markdown",
   "metadata": {},
   "source": [
    "# CSCI 532 Semester Project Demonstration and Analysis\n",
    "\n",
    "James Avery"
   ]
  },
  {
   "cell_type": "markdown",
   "metadata": {},
   "source": [
    "## Problem #3"
   ]
  },
  {
   "cell_type": "markdown",
   "metadata": {},
   "source": [
    ">Write a C/C++/Matlab/Java program to compute insertion sort and merge sort. (You can use the code from the textbooks by Deitel and Deitel or from the web.) Obtain the run time of both routines.\n",
    "\n",
    ">The input data should be an int array containing random element values (between, say, 0 and 1023). Obtain run time T with 1D (input) array of size of $n = 16$, $256$, $4096$, $65536$, $1048576$ (i.e. $2^p$, where $p = 4$, $8$, $12$, $16$, $20$). The run time for each $n$ should be averaged with about $\\left\\lfloor{\\frac{512}{p \\times p}}\\right\\rfloor$ runs. Each run for a given $n$ should use a different random input.\n",
    "\n",
    ">Plot (with Excel, Matlab, or other available tools) the run time for both routines on one plot, with the $x$ axis in $p$ values, and $y$ axis in $\\log{T}$. Label on the plot which curve is for insertion sort and which is for merge sort.\n",
    "\n",
    ">Submit C/C++ programs and plot, with instructions in readme.txt on how to build and run the program. (Include the Dev-C++/MS Visual Studio/Java NetBeans project file.)"
   ]
  },
  {
   "cell_type": "markdown",
   "metadata": {},
   "source": [
    "In addition to the above, I also added a number of command line arguments to make testing more interactive:\n",
    "* `insertion-only`: Prevents merge sort from being run\n",
    "* `merge-only`: Prevents insertion sort from being run\n",
    "* `equal-batches`: Instead of running each sort $\\left\\lfloor\\frac{512}{p\\times{p}}\\right\\rfloor$ times, run in equal-sized batches. This takes a lot longer, but allows for more accurate analysis, as well as processing run-time data in Python using NumPy\n",
    "* `limit-n`: Limits the size of arrays to those that run quickly, i.e., arrays smaller than around 1 million items. This speeds testing the algorithms' run-times, especially when `equal-batches` is also used.\n",
    "* `demo-sorters`: Demonstrates the sorting routines (specifically that they actually do sort arrays).\n",
    "* `no-time`: Does not obtain run-times for the sorting algorithms (i.e. does not do what the assignment requires, in order to shorten run-times for `demo-sorters`.)"
   ]
  },
  {
   "cell_type": "markdown",
   "metadata": {},
   "source": [
    "## Build the project"
   ]
  },
  {
   "cell_type": "markdown",
   "metadata": {},
   "source": [
    "In Linux the program may be built at the command line by typing\n",
    "\n",
    "```\n",
    "g++ -std=\"c++14\" main.cpp -o main\n",
    "```\n",
    "\n",
    "In Windows, the program must be built using the Visual Studio Command Prompt with the command\n",
    "\n",
    "```\n",
    "cl main.cpp\n",
    "```"
   ]
  },
  {
   "cell_type": "markdown",
   "metadata": {},
   "source": [
    "The code cell below checks to see if the executable exists, and builds it if it does not."
   ]
  },
  {
   "cell_type": "code",
   "execution_count": 1,
   "metadata": {},
   "outputs": [
    {
     "name": "stdout",
     "output_type": "stream",
     "text": [
      "Building for Linux\n",
      "Done.\n"
     ]
    }
   ],
   "source": [
    "import os\n",
    "import platform\n",
    "\n",
    "# Determine which operating system we're running under\n",
    "linux = platform.system() == \"Linux\"\n",
    "windows = platform.system() == \"Windows\"\n",
    "\n",
    "# Determine if an executable exists\n",
    "main_exists = os.access(\"main\", os.F_OK)\n",
    "mainexe_exists = os.access(\"main.exe\", os.F_OK)\n",
    "\n",
    "# Determine if the executable is actually executable\n",
    "main_is_executable = os.access(\"main\", os.X_OK)\n",
    "mainexe_is_executable = os.access(\"main.exe\", os.X_OK)\n",
    "\n",
    "# If the file does not exist or is not executable, then build it\n",
    "if linux and main_is_executable:\n",
    "    print(\"Executable exists for Linux.\")\n",
    "elif linux and (not main_is_executable or not main_exists):\n",
    "    print(\"Building for Linux\")\n",
    "    ! g++ -std=\"c++14\" main.cpp -o main\n",
    "    print(\"Done.\")\n",
    "elif windows and mainexe_is_executable:\n",
    "    print(\"Executable exists for Windows.\")\n",
    "elif windows and (not mainexe_is_executable or not mainexe_exists):\n",
    "    print(\"Building for Windows\")\n",
    "    ! cl main.exe\n",
    "    print(\"Done.\")\n",
    "else:\n",
    "    print(\"Either this is an unsupported OS, or something else is wrong.\")"
   ]
  },
  {
   "cell_type": "markdown",
   "metadata": {},
   "source": [
    "## Demonstrate that the sorters sort correctly"
   ]
  },
  {
   "cell_type": "markdown",
   "metadata": {},
   "source": [
    "Using a combination of the `demo-sorters` and `no-time` command line arguments, it is possible to demonstrate that the insertion sort and merge sort functions do indeed sort arrays into nondecreasing order."
   ]
  },
  {
   "cell_type": "markdown",
   "metadata": {},
   "source": [
    "### Insertion Sort"
   ]
  },
  {
   "cell_type": "code",
   "execution_count": 2,
   "metadata": {
    "scrolled": false
   },
   "outputs": [
    {
     "name": "stdout",
     "output_type": "stream",
     "text": [
      "\r\n",
      "=====  Demonstrating Insertion Sort  =====\r\n",
      "\r\n",
      "Before: 852 71 330 999 619 77 981 502 205 606 \r\n",
      "After: 71 77 205 330 502 606 619 852 981 999 \r\n",
      "\r\n",
      "Before: 147 894 491 281 792 474 951 26 829 479 \r\n",
      "After: 26 147 281 474 479 491 792 829 894 951 \r\n",
      "\r\n",
      "Before: 30 868 55 311 522 13 400 781 1006 49 \r\n",
      "After: 13 30 49 55 311 400 522 781 868 1006 \r\n",
      "\r\n",
      "Before: 209 184 63 312 564 365 148 723 353 794 \r\n",
      "After: 63 148 184 209 312 353 365 564 723 794 \r\n",
      "\r\n",
      "Before: 29 827 926 363 57 620 345 792 916 638 \r\n",
      "After: 29 57 345 363 620 638 792 827 916 926 \r\n",
      "\r\n",
      "Before: 836 527 238 731 213 195 616 1014 243 437 \r\n",
      "After: 195 213 238 243 437 527 616 731 836 1014 \r\n",
      "\r\n",
      "Before: 309 321 696 648 654 208 720 490 370 68 \r\n",
      "After: 68 208 309 321 370 490 648 654 696 720 \r\n",
      "\r\n",
      "Before: 530 785 98 580 928 713 930 685 88 930 \r\n",
      "After: 88 98 530 580 685 713 785 928 930 930 \r\n",
      "\r\n",
      "Before: 531 194 587 811 335 838 240 509 706 567 \r\n",
      "After: 194 240 335 509 531 567 587 706 811 838 \r\n",
      "\r\n",
      "Before: 525 557 567 337 988 228 161 35 868 185 \r\n",
      "After: 35 161 185 228 337 525 557 567 868 988 \r\n"
     ]
    }
   ],
   "source": [
    "if linux:\n",
    "    ! ./main demo-sorters insertion-only no-time\n",
    "elif windows:\n",
    "    ! main.exe demo-sorters merge-only no-time"
   ]
  },
  {
   "cell_type": "markdown",
   "metadata": {},
   "source": [
    "### Merge Sort"
   ]
  },
  {
   "cell_type": "code",
   "execution_count": 3,
   "metadata": {},
   "outputs": [
    {
     "name": "stdout",
     "output_type": "stream",
     "text": [
      "\r\n",
      "=====  Demonstrating Merge Sort  =====\r\n",
      "\r\n",
      "Before: 167 604 384 743 262 948 14 159 365 227 \r\n",
      "After: 14 159 167 227 262 365 384 604 743 948 \r\n",
      "\r\n",
      "Before: 271 91 431 854 260 872 867 590 917 13 \r\n",
      "After: 13 91 260 271 431 590 854 867 872 917 \r\n",
      "\r\n",
      "Before: 375 762 454 798 153 65 600 584 586 674 \r\n",
      "After: 65 153 375 454 584 586 600 674 762 798 \r\n",
      "\r\n",
      "Before: 446 641 819 200 174 240 699 119 165 702 \r\n",
      "After: 119 165 174 200 240 446 641 699 702 819 \r\n",
      "\r\n",
      "Before: 461 242 614 527 969 160 612 7 22 378 \r\n",
      "After: 7 22 160 242 378 461 527 612 614 969 \r\n",
      "\r\n",
      "Before: 694 692 727 189 892 460 715 468 89 382 \r\n",
      "After: 89 189 382 460 468 692 694 715 727 892 \r\n",
      "\r\n",
      "Before: 352 782 765 968 60 1 593 944 166 123 \r\n",
      "After: 1 60 123 166 352 593 765 782 944 968 \r\n",
      "\r\n",
      "Before: 987 785 406 276 990 306 937 32 363 211 \r\n",
      "After: 32 211 276 306 363 406 785 937 987 990 \r\n",
      "\r\n",
      "Before: 77 52 615 725 567 256 549 787 528 533 \r\n",
      "After: 52 77 256 528 533 549 567 615 725 787 \r\n",
      "\r\n",
      "Before: 604 281 128 811 580 213 320 965 866 728 \r\n",
      "After: 128 213 281 320 580 604 728 811 866 965 \r\n"
     ]
    }
   ],
   "source": [
    "if linux:\n",
    "    ! ./main demo-sorters merge-only no-time\n",
    "elif windows:\n",
    "    ! main.exe demo-sorters merge-only no-time"
   ]
  },
  {
   "cell_type": "markdown",
   "metadata": {},
   "source": [
    "## Find Run-Times"
   ]
  },
  {
   "cell_type": "markdown",
   "metadata": {},
   "source": [
    "This is the main part of project as assigned. Running both sorts takes approximately one hour on a fast computer."
   ]
  },
  {
   "cell_type": "markdown",
   "metadata": {},
   "source": [
    "### Insertion Sort"
   ]
  },
  {
   "cell_type": "code",
   "execution_count": 4,
   "metadata": {
    "scrolled": false
   },
   "outputs": [
    {
     "name": "stdout",
     "output_type": "stream",
     "text": [
      "\n",
      "Insertion Sort\n",
      "16\t1303\t902\t859\t884\t761\t886\t787\t778\t920\t816\t817\t806\t783\t812\t771\t763\t781\t829\t737\t740\t962\t696\t981\t894\t761\t857\t924\t880\t844\t608\t859\t848\t\n",
      "256\t115302\t355001\t145560\t109510\t161765\t356600\t107974\t162201\t\n",
      "4096\t21620272\t21185237\t22373441\t\n",
      "65536\t5421502820\t5638121265\t\n",
      "1048576\t1330612247603\t\n"
     ]
    }
   ],
   "source": [
    "if linux:\n",
    "    ! ./main insertion-only\n",
    "elif windows:\n",
    "    ! main.exe insertion-only"
   ]
  },
  {
   "cell_type": "markdown",
   "metadata": {},
   "source": [
    "### Merge Sort"
   ]
  },
  {
   "cell_type": "code",
   "execution_count": 5,
   "metadata": {},
   "outputs": [
    {
     "name": "stdout",
     "output_type": "stream",
     "text": [
      "\n",
      "Merge Sort\n",
      "16\t7192\t4528\t4510\t4307\t4529\t7460\t4362\t4328\t4412\t4302\t4431\t4344\t4549\t4474\t4371\t4458\t4560\t4513\t4445\t4292\t4502\t4414\t4465\t4532\t4191\t4075\t4111\t4414\t4381\t4262\t4349\t4532\t\n",
      "256\t210621\t212145\t211557\t278553\t308630\t186463\t172185\t179669\t\n",
      "4096\t27312003\t25968680\t26569605\t\n",
      "65536\t5848871422\t5819882815\t\n",
      "1048576\t1485711308521\t\n"
     ]
    }
   ],
   "source": [
    "if linux:\n",
    "    !./main merge-only\n",
    "elif windows:\n",
    "    ! main.exe merge-only"
   ]
  },
  {
   "cell_type": "markdown",
   "metadata": {},
   "source": [
    "## Prepare the data for processing"
   ]
  },
  {
   "cell_type": "markdown",
   "metadata": {},
   "source": [
    "Load the run-times into Pandas dataframes for processing."
   ]
  },
  {
   "cell_type": "code",
   "execution_count": 29,
   "metadata": {},
   "outputs": [],
   "source": [
    "import numpy as np\n",
    "import pandas as pd\n",
    "import IPython as ipy\n",
    "\n",
    "insertion = pd.read_table('./insertionsort.csv', usecols=range(25), header=None, index_col=0)\n",
    "merge = pd.read_table('./mergesort.csv', usecols=range(25), header=None, index_col=0)"
   ]
  },
  {
   "cell_type": "markdown",
   "metadata": {},
   "source": [
    "#### Insertion Sort Run Times"
   ]
  },
  {
   "cell_type": "code",
   "execution_count": 38,
   "metadata": {},
   "outputs": [
    {
     "data": {
      "text/html": [
       "<table border=\"1\" class=\"dataframe\">\n",
       "  <tbody>\n",
       "    <tr>\n",
       "      <th>16</th>\n",
       "      <td>1303</td>\n",
       "      <td>9.020000e+02</td>\n",
       "      <td>859.0</td>\n",
       "      <td>884.0</td>\n",
       "      <td>761.0</td>\n",
       "      <td>886.0</td>\n",
       "      <td>787.0</td>\n",
       "      <td>...</td>\n",
       "      <td>829.0</td>\n",
       "      <td>737.0</td>\n",
       "      <td>740.0</td>\n",
       "      <td>962.0</td>\n",
       "      <td>696.0</td>\n",
       "      <td>981.0</td>\n",
       "      <td>894.0</td>\n",
       "    </tr>\n",
       "    <tr>\n",
       "      <th>256</th>\n",
       "      <td>115302</td>\n",
       "      <td>3.550010e+05</td>\n",
       "      <td>145560.0</td>\n",
       "      <td>109510.0</td>\n",
       "      <td>161765.0</td>\n",
       "      <td>356600.0</td>\n",
       "      <td>107974.0</td>\n",
       "      <td>...</td>\n",
       "      <td></td>\n",
       "      <td></td>\n",
       "      <td></td>\n",
       "      <td></td>\n",
       "      <td></td>\n",
       "      <td></td>\n",
       "      <td></td>\n",
       "    </tr>\n",
       "    <tr>\n",
       "      <th>4096</th>\n",
       "      <td>21620272</td>\n",
       "      <td>2.118524e+07</td>\n",
       "      <td>22373441.0</td>\n",
       "      <td></td>\n",
       "      <td></td>\n",
       "      <td></td>\n",
       "      <td></td>\n",
       "      <td>...</td>\n",
       "      <td></td>\n",
       "      <td></td>\n",
       "      <td></td>\n",
       "      <td></td>\n",
       "      <td></td>\n",
       "      <td></td>\n",
       "      <td></td>\n",
       "    </tr>\n",
       "    <tr>\n",
       "      <th>65536</th>\n",
       "      <td>5421502820</td>\n",
       "      <td>5.638121e+09</td>\n",
       "      <td></td>\n",
       "      <td></td>\n",
       "      <td></td>\n",
       "      <td></td>\n",
       "      <td></td>\n",
       "      <td>...</td>\n",
       "      <td></td>\n",
       "      <td></td>\n",
       "      <td></td>\n",
       "      <td></td>\n",
       "      <td></td>\n",
       "      <td></td>\n",
       "      <td></td>\n",
       "    </tr>\n",
       "    <tr>\n",
       "      <th>1048576</th>\n",
       "      <td>1330612247603</td>\n",
       "      <td></td>\n",
       "      <td></td>\n",
       "      <td></td>\n",
       "      <td></td>\n",
       "      <td></td>\n",
       "      <td></td>\n",
       "      <td>...</td>\n",
       "      <td></td>\n",
       "      <td></td>\n",
       "      <td></td>\n",
       "      <td></td>\n",
       "      <td></td>\n",
       "      <td></td>\n",
       "      <td></td>\n",
       "    </tr>\n",
       "  </tbody>\n",
       "</table>"
      ],
      "text/plain": [
       "<IPython.core.display.HTML object>"
      ]
     },
     "metadata": {},
     "output_type": "display_data"
    }
   ],
   "source": [
    "ipy.display.display(\n",
    "    ipy.display.HTML(\n",
    "        insertion.to_html(na_rep='', max_cols=15, header=False)))"
   ]
  },
  {
   "cell_type": "markdown",
   "metadata": {},
   "source": [
    "#### Merge Sort Run Times"
   ]
  },
  {
   "cell_type": "code",
   "execution_count": 97,
   "metadata": {},
   "outputs": [
    {
     "data": {
      "text/html": [
       "<table border=\"1\" class=\"dataframe\">\n",
       "  <tbody>\n",
       "    <tr>\n",
       "      <th>16</th>\n",
       "      <td>7192</td>\n",
       "      <td>4.528000e+03</td>\n",
       "      <td>4510.0</td>\n",
       "      <td>4307.0</td>\n",
       "      <td>4529.0</td>\n",
       "      <td>7460.0</td>\n",
       "      <td>4362.0</td>\n",
       "      <td>...</td>\n",
       "      <td>4513.0</td>\n",
       "      <td>4445.0</td>\n",
       "      <td>4292.0</td>\n",
       "      <td>4502.0</td>\n",
       "      <td>4414.0</td>\n",
       "      <td>4465.0</td>\n",
       "      <td>4532.0</td>\n",
       "    </tr>\n",
       "    <tr>\n",
       "      <th>256</th>\n",
       "      <td>210621</td>\n",
       "      <td>2.121450e+05</td>\n",
       "      <td>211557.0</td>\n",
       "      <td>278553.0</td>\n",
       "      <td>308630.0</td>\n",
       "      <td>186463.0</td>\n",
       "      <td>172185.0</td>\n",
       "      <td>...</td>\n",
       "      <td></td>\n",
       "      <td></td>\n",
       "      <td></td>\n",
       "      <td></td>\n",
       "      <td></td>\n",
       "      <td></td>\n",
       "      <td></td>\n",
       "    </tr>\n",
       "    <tr>\n",
       "      <th>4096</th>\n",
       "      <td>27312003</td>\n",
       "      <td>2.596868e+07</td>\n",
       "      <td>26569605.0</td>\n",
       "      <td></td>\n",
       "      <td></td>\n",
       "      <td></td>\n",
       "      <td></td>\n",
       "      <td>...</td>\n",
       "      <td></td>\n",
       "      <td></td>\n",
       "      <td></td>\n",
       "      <td></td>\n",
       "      <td></td>\n",
       "      <td></td>\n",
       "      <td></td>\n",
       "    </tr>\n",
       "    <tr>\n",
       "      <th>65536</th>\n",
       "      <td>5848871422</td>\n",
       "      <td>5.819883e+09</td>\n",
       "      <td></td>\n",
       "      <td></td>\n",
       "      <td></td>\n",
       "      <td></td>\n",
       "      <td></td>\n",
       "      <td>...</td>\n",
       "      <td></td>\n",
       "      <td></td>\n",
       "      <td></td>\n",
       "      <td></td>\n",
       "      <td></td>\n",
       "      <td></td>\n",
       "      <td></td>\n",
       "    </tr>\n",
       "    <tr>\n",
       "      <th>1048576</th>\n",
       "      <td>1485711308521</td>\n",
       "      <td></td>\n",
       "      <td></td>\n",
       "      <td></td>\n",
       "      <td></td>\n",
       "      <td></td>\n",
       "      <td></td>\n",
       "      <td>...</td>\n",
       "      <td></td>\n",
       "      <td></td>\n",
       "      <td></td>\n",
       "      <td></td>\n",
       "      <td></td>\n",
       "      <td></td>\n",
       "      <td></td>\n",
       "    </tr>\n",
       "  </tbody>\n",
       "</table>"
      ],
      "text/plain": [
       "<IPython.core.display.HTML object>"
      ]
     },
     "metadata": {},
     "output_type": "display_data"
    }
   ],
   "source": [
    "ipy.display.display(\n",
    "    ipy.display.HTML(\n",
    "        merge.to_html(na_rep='', max_cols=15, header=False)))"
   ]
  },
  {
   "cell_type": "markdown",
   "metadata": {},
   "source": [
    "Calculate the mean of each row, discarding missing columns."
   ]
  },
  {
   "cell_type": "code",
   "execution_count": 120,
   "metadata": {},
   "outputs": [],
   "source": [
    "insertion_mean = insertion.mean(axis=1).as_matrix()\n",
    "merge_mean = merge.mean(axis=1).as_matrix()"
   ]
  },
  {
   "cell_type": "markdown",
   "metadata": {},
   "source": [
    "The data is stored in rows of the format $n, r_1, r_2, \\ldots r_i$, where $n$ is the size of the array, and $r_i$ is the run-time in nanoseconds of the $i^{\\textrm{th}}$ run, so extract the first row as $x$ values for the graph."
   ]
  },
  {
   "cell_type": "code",
   "execution_count": 121,
   "metadata": {},
   "outputs": [],
   "source": [
    "insertion_xs = insertion.index.tolist()\n",
    "merge_xs = merge.index.tolist()\n",
    "\n",
    "if insertion_xs != merge_xs:\n",
    "    raise ValueError(\n",
    "        \"The two data sets were not tested on arrays of the same sizes.\" +\n",
    "            \"\\n\\tInsertion Sort was tested with arrays of sizes:\\n\\t\\t\" +\n",
    "            str(insertion_xs) +\n",
    "           \"\\n\\tMerge Sort was tested with arrays of sizes:\\n\\t\\t\" +\n",
    "            str(merge_xs))\n",
    "else:\n",
    "    xs = np.array(insertion_xs.copy())\n",
    "    del insertion_xs, merge_xs"
   ]
  },
  {
   "cell_type": "markdown",
   "metadata": {},
   "source": [
    "## Graph the results"
   ]
  },
  {
   "cell_type": "code",
   "execution_count": 119,
   "metadata": {
    "scrolled": false
   },
   "outputs": [
    {
     "data": {
      "image/png": "[encoded data removed]",
      "text/plain": [
       "<matplotlib.figure.Figure at 0x7f6d7ef24390>"
      ]
     },
     "metadata": {},
     "output_type": "display_data"
    },
    {
     "data": {
      "text/markdown": [
       "| $n$ | Insertion Sort | Merge Sort |\n",
       "|:---|:---:|:---:|\n",
       "| 16 | 844.5 | 4678.3 |\n",
       "| 256 | 1.8924e+05 | 2.1998e+05 |\n",
       "| 4096 | 2.1726e+07 | 2.6617e+07 |\n",
       "| 65536 | 5.5298e+09 | 5.8344e+09 |\n",
       "| 1048576 | 1.3306e+12 | 1.4857e+12 |\n"
      ],
      "text/plain": [
       "<IPython.core.display.Markdown object>"
      ]
     },
     "execution_count": 119,
     "metadata": {},
     "output_type": "execute_result"
    }
   ],
   "source": [
    "import matplotlib.pyplot as plt\n",
    "import IPython\n",
    "\n",
    "plt.rcParams['figure.figsize'] = [10, 10]\n",
    "plt.plot(xs, insertion_mean, label='Insertion Sort')\n",
    "plt.plot(xs, merge_mean, label='Merge Sort')\n",
    "plt.legend()\n",
    "plt.xscale('log')\n",
    "plt.yscale('log')\n",
    "plt.xlabel(\"Array size $n$\")\n",
    "plt.ylabel('Run Time (ns)')\n",
    "plt.title(\"Average Run Times of Insertion Sort and Merge Sort Compared\")\n",
    "plt.show()\n",
    "\n",
    "table = \"| $n$ | Insertion Sort | Merge Sort |\\n|:---|:---:|:---:|\\n\"\n",
    "for i in range(len(xs)):\n",
    "    table += \"| {n} | {ins:.5} | {ms:.5} |\\n\".format(\n",
    "        n=xs[i], \n",
    "        ins=insertion_mean[i], \n",
    "        ms=merge_mean[i]\n",
    "    )\n",
    "IPython.display.Markdown(table)"
   ]
  },
  {
   "cell_type": "markdown",
   "metadata": {},
   "source": [
    "## Notebook Cleanup/Additional Information"
   ]
  },
  {
   "cell_type": "markdown",
   "metadata": {},
   "source": [
    "### This document was created with the following software versions:"
   ]
  },
  {
   "cell_type": "code",
   "execution_count": 37,
   "metadata": {},
   "outputs": [
    {
     "name": "stdout",
     "output_type": "stream",
     "text": [
      "\n",
      "INSTALLED VERSIONS\n",
      "------------------\n",
      "commit: None\n",
      "python: 3.6.4.final.0\n",
      "python-bits: 64\n",
      "OS: Linux\n",
      "OS-release: 4.13.0-38-lowlatency\n",
      "machine: x86_64\n",
      "processor: x86_64\n",
      "byteorder: little\n",
      "LC_ALL: None\n",
      "LANG: en_US.UTF-8\n",
      "LOCALE: en_US.UTF-8\n",
      "\n",
      "pandas: 0.22.0\n",
      "pytest: 3.3.2\n",
      "pip: 9.0.1\n",
      "setuptools: 38.4.0\n",
      "Cython: 0.27.3\n",
      "numpy: 1.14.0\n",
      "scipy: 1.0.0\n",
      "pyarrow: None\n",
      "xarray: None\n",
      "IPython: 6.2.1\n",
      "sphinx: 1.6.6\n",
      "patsy: 0.5.0\n",
      "dateutil: 2.6.1\n",
      "pytz: 2017.3\n",
      "blosc: None\n",
      "bottleneck: 1.2.1\n",
      "tables: 3.4.2\n",
      "numexpr: 2.6.4\n",
      "feather: None\n",
      "matplotlib: 2.1.2\n",
      "openpyxl: 2.4.10\n",
      "xlrd: 1.1.0\n",
      "xlwt: 1.3.0\n",
      "xlsxwriter: 1.0.2\n",
      "lxml: 4.1.1\n",
      "bs4: 4.6.0\n",
      "html5lib: 0.9999999\n",
      "sqlalchemy: 1.2.1\n",
      "pymysql: None\n",
      "psycopg2: None\n",
      "jinja2: 2.10\n",
      "s3fs: None\n",
      "fastparquet: None\n",
      "pandas_gbq: None\n",
      "pandas_datareader: None\n"
     ]
    }
   ],
   "source": [
    "pd.show_versions()"
   ]
  },
  {
   "cell_type": "code",
   "execution_count": 36,
   "metadata": {},
   "outputs": [
    {
     "data": {
      "application/javascript": [
       "// Hide \"In [*]\" prompts in notebook.\n",
       "$('div.prompt').hide();"
      ],
      "text/plain": [
       "<IPython.core.display.Javascript object>"
      ]
     },
     "metadata": {},
     "output_type": "display_data"
    }
   ],
   "source": [
    "%%javascript\n",
    "// Hide \"In [*]\" prompts in notebook.\n",
    "$('div.prompt').hide();"
   ]
  }
 ],
 "metadata": {
  "kernelspec": {
   "display_name": "Python 3",
   "language": "python",
   "name": "python3"
  },
  "language_info": {
   "codemirror_mode": {
    "name": "ipython",
    "version": 3
   },
   "file_extension": ".py",
   "mimetype": "text/x-python",
   "name": "python",
   "nbconvert_exporter": "python",
   "pygments_lexer": "ipython3",
   "version": "3.6.4"
  }
 },
 "nbformat": 4,
 "nbformat_minor": 2
}
