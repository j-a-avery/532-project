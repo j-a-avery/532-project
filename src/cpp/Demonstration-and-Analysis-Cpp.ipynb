{
 "cells": [
  {
   "cell_type": "markdown",
   "metadata": {},
   "source": [
    "# CSCI 532 Semester Project Demonstration and Analysis\n",
    "\n",
    "James Avery"
   ]
  },
  {
   "cell_type": "markdown",
   "metadata": {},
   "source": [
    "## Problem #3"
   ]
  },
  {
   "cell_type": "markdown",
   "metadata": {},
   "source": [
    ">Write a C/C++/Matlab/Java program to compute insertion sort and merge sort. (You can use the code from the textbooks by Deitel and Deitel or from the web.) Obtain the run time of both routines.\n",
    "\n",
    ">The input data should be an int array containing random element values (between, say, 0 and 1023). Obtain run time T with 1D (input) array of size of $n = 16$, $256$, $4096$, $65536$, $1048576$ (i.e. $2^p$, where $p = 4$, $8$, $12$, $16$, $20$). The run time for each $n$ should be averaged with about $\\left\\lfloor{\\frac{512}{p \\times p}}\\right\\rfloor$ runs. Each run for a given $n$ should use a different random input.\n",
    "\n",
    ">Plot (with Excel, Matlab, or other available tools) the run time for both routines on one plot, with the $x$ axis in $p$ values, and $y$ axis in $\\log{T}$. Label on the plot which curve is for insertion sort and which is for merge sort.\n",
    "\n",
    ">Submit C/C++ programs and plot, with instructions in readme.txt on how to build and run the program. (Include the Dev-C++/MS Visual Studio/Java NetBeans project file.)"
   ]
  },
  {
   "cell_type": "markdown",
   "metadata": {},
   "source": [
    "In addition to the above, I also added a number of command line arguments to make testing more interactive:\n",
    "* `insertion-only`: Prevents merge sort from being run\n",
    "* `merge-only`: Prevents insertion sort from being run\n",
    "* `equal-batches`: Instead of running each sort $\\left\\lfloor\\frac{512}{p\\times{p}}\\right\\rfloor$ times, run in equal-sized batches. This takes a lot longer, but allows for more accurate analysis, as well as processing run-time data in Python using NumPy\n",
    "* `limit-n`: Limits the size of arrays to those that run quickly, i.e., arrays smaller than around 1 million items. This speeds testing the algorithms' run-times, especially when `equal-batches` is also used.\n",
    "* `demo-sorters`: Demonstrates the sorting routines (specifically that they actually do sort arrays).\n",
    "* `no-time`: Does not obtain run-times for the sorting algorithms (i.e. does not do what the assignment requires, in order to shorten run-times for `demo-sorters`.)"
   ]
  },
  {
   "cell_type": "markdown",
   "metadata": {},
   "source": [
    "## Build the project"
   ]
  },
  {
   "cell_type": "markdown",
   "metadata": {},
   "source": [
    "In Linux the program may be built at the command line by typing\n",
    "\n",
    "```\n",
    "g++ -std=\"c++14\" main.cpp -o main\n",
    "```\n",
    "\n",
    "In Windows, the program must be built using the Visual Studio Command Prompt with the command\n",
    "\n",
    "```\n",
    "cl main.cpp\n",
    "```"
   ]
  },
  {
   "cell_type": "markdown",
   "metadata": {},
   "source": [
    "The code cell below checks to see if the executable exists, and builds it if it does not."
   ]
  },
  {
   "cell_type": "code",
   "execution_count": 1,
   "metadata": {},
   "outputs": [
    {
     "name": "stdout",
     "output_type": "stream",
     "text": [
      "Building for Linux\n",
      "Done.\n"
     ]
    }
   ],
   "source": [
    "import os\n",
    "import platform\n",
    "\n",
    "# Determine which operating system we're running under\n",
    "linux = platform.system() == \"Linux\"\n",
    "windows = platform.system() == \"Windows\"\n",
    "\n",
    "# Determine if an executable exists\n",
    "main_exists = os.access(\"main\", os.F_OK)\n",
    "mainexe_exists = os.access(\"main.exe\", os.F_OK)\n",
    "\n",
    "# Determine if the executable is actually executable\n",
    "main_is_executable = os.access(\"main\", os.X_OK)\n",
    "mainexe_is_executable = os.access(\"main.exe\", os.X_OK)\n",
    "\n",
    "# If the file does not exist or is not executable, then build it\n",
    "if linux and main_is_executable:\n",
    "    print(\"Executable exists for Linux.\")\n",
    "elif linux and (not main_is_executable or not main_exists):\n",
    "    print(\"Building for Linux\")\n",
    "    ! g++ -std=\"c++14\" main.cpp -o main\n",
    "    print(\"Done.\")\n",
    "elif windows and mainexe_is_executable:\n",
    "    print(\"Executable exists for Windows.\")\n",
    "elif windows and (not mainexe_is_executable or not mainexe_exists):\n",
    "    print(\"Building for Windows\")\n",
    "    ! cl main.exe\n",
    "    print(\"Done.\")\n",
    "else:\n",
    "    print(\"Either this is an unsupported OS, or something else is wrong.\")"
   ]
  },
  {
   "cell_type": "markdown",
   "metadata": {},
   "source": [
    "## Demonstrate that the sorters sort correctly"
   ]
  },
  {
   "cell_type": "markdown",
   "metadata": {},
   "source": [
    "Using a combination of the `demo-sorters` and `no-time` command line arguments, it is possible to demonstrate that the insertion sort and merge sort functions do indeed sort arrays into nondecreasing order."
   ]
  },
  {
   "cell_type": "markdown",
   "metadata": {},
   "source": [
    "### Insertion Sort"
   ]
  },
  {
   "cell_type": "code",
   "execution_count": 2,
   "metadata": {
    "scrolled": false
   },
   "outputs": [
    {
     "name": "stdout",
     "output_type": "stream",
     "text": [
      "\r\n",
      "=====  Demonstrating Insertion Sort  =====\r\n",
      "\r\n",
      "Before: 857 527 81 802 690 886 576 388 716 881 \r\n",
      "After: 81 388 527 576 690 716 802 857 881 886 \r\n",
      "\r\n",
      "Before: 912 966 340 289 47 954 787 710 166 139 \r\n",
      "After: 47 139 166 289 340 710 787 912 954 966 \r\n",
      "\r\n",
      "Before: 481 4 906 376 670 878 924 805 459 176 \r\n",
      "After: 4 176 376 459 481 670 805 878 906 924 \r\n",
      "\r\n",
      "Before: 661 615 534 326 451 526 272 745 898 916 \r\n",
      "After: 272 326 451 526 534 615 661 745 898 916 \r\n",
      "\r\n",
      "Before: 933 330 331 811 765 292 572 765 883 139 \r\n",
      "After: 139 292 330 331 572 765 765 811 883 933 \r\n",
      "\r\n",
      "Before: 376 1011 81 171 608 628 959 87 316 130 \r\n",
      "After: 81 87 130 171 316 376 608 628 959 1011 \r\n",
      "\r\n",
      "Before: 528 781 675 134 106 581 849 326 942 834 \r\n",
      "After: 106 134 326 528 581 675 781 834 849 942 \r\n",
      "\r\n",
      "Before: 596 984 888 937 488 354 753 429 829 350 \r\n",
      "After: 350 354 429 488 596 753 829 888 937 984 \r\n",
      "\r\n",
      "Before: 753 271 44 319 597 936 938 18 641 283 \r\n",
      "After: 18 44 271 283 319 597 641 753 936 938 \r\n",
      "\r\n",
      "Before: 92 358 139 308 525 415 624 536 882 5 \r\n",
      "After: 5 92 139 308 358 415 525 536 624 882 \r\n"
     ]
    }
   ],
   "source": [
    "if linux:\n",
    "    ! ./main demo-sorters insertion-only no-time\n",
    "elif windows:\n",
    "    ! main.exe demo-sorters merge-only no-time"
   ]
  },
  {
   "cell_type": "markdown",
   "metadata": {},
   "source": [
    "### Merge Sort"
   ]
  },
  {
   "cell_type": "code",
   "execution_count": 3,
   "metadata": {},
   "outputs": [
    {
     "name": "stdout",
     "output_type": "stream",
     "text": [
      "\r\n",
      "=====  Demonstrating Merge Sort  =====\r\n",
      "\r\n",
      "Before: 959 424 823 165 142 742 1008 938 39 517 \r\n",
      "After: 39 142 165 424 517 742 823 938 959 1008 \r\n",
      "\r\n",
      "Before: 995 907 553 73 1001 277 251 418 67 979 \r\n",
      "After: 67 73 251 277 418 553 907 979 995 1001 \r\n",
      "\r\n",
      "Before: 452 621 94 986 650 601 554 244 248 678 \r\n",
      "After: 94 244 248 452 554 601 621 650 678 986 \r\n",
      "\r\n",
      "Before: 476 176 960 133 382 245 424 61 884 728 \r\n",
      "After: 61 133 176 245 382 424 476 728 884 960 \r\n",
      "\r\n",
      "Before: 668 697 374 717 818 1010 268 28 567 799 \r\n",
      "After: 28 268 374 567 668 697 717 799 818 1010 \r\n",
      "\r\n",
      "Before: 511 179 802 669 385 791 656 974 449 810 \r\n",
      "After: 179 385 449 511 656 669 791 802 810 974 \r\n",
      "\r\n",
      "Before: 18 153 100 813 205 46 124 826 586 256 \r\n",
      "After: 18 46 100 124 153 205 256 586 813 826 \r\n",
      "\r\n",
      "Before: 755 576 345 595 75 546 20 233 944 401 \r\n",
      "After: 20 75 233 345 401 546 576 595 755 944 \r\n",
      "\r\n",
      "Before: 359 357 545 28 164 891 949 1007 990 618 \r\n",
      "After: 28 164 357 359 545 618 891 949 990 1007 \r\n",
      "\r\n",
      "Before: 530 482 937 471 683 512 982 268 598 268 \r\n",
      "After: 268 268 471 482 512 530 598 683 937 982 \r\n"
     ]
    }
   ],
   "source": [
    "if linux:\n",
    "    ! ./main demo-sorters merge-only no-time\n",
    "elif windows:\n",
    "    ! main.exe demo-sorters merge-only no-time"
   ]
  },
  {
   "cell_type": "markdown",
   "metadata": {},
   "source": [
    "## Find Run-Times"
   ]
  },
  {
   "cell_type": "markdown",
   "metadata": {},
   "source": [
    "This is the main part of project as assigned. Running both sorts takes approximately one hour on a fast computer."
   ]
  },
  {
   "cell_type": "markdown",
   "metadata": {},
   "source": [
    "### Insertion Sort"
   ]
  },
  {
   "cell_type": "code",
   "execution_count": 4,
   "metadata": {
    "scrolled": false
   },
   "outputs": [
    {
     "name": "stdout",
     "output_type": "stream",
     "text": [
      "\n",
      "Insertion Sort\n",
      "16\t940\t763\t588\t841\t615\t542\t694\t721\t656\t634\t450\t613\t556\t683\t631\t603\t611\t603\t601\t630\t626\t726\t582\t645\t654\t564\t665\t592\t644\t616\t665\t668\t\n",
      "256\t85940\t88738\t84602\t84805\t85912\t89189\t83913\t88921\t\n",
      "4096\t22230792\t21521575\t22281241\t\n",
      "65536\t5319621618\t5244827702\t\n",
      "1048576\t1336919920815\t\n"
     ]
    }
   ],
   "source": [
    "if linux:\n",
    "    ! ./main insertion-only\n",
    "elif windows:\n",
    "    ! main.exe insertion-only"
   ]
  },
  {
   "cell_type": "markdown",
   "metadata": {},
   "source": [
    "### Merge Sort"
   ]
  },
  {
   "cell_type": "code",
   "execution_count": 5,
   "metadata": {},
   "outputs": [
    {
     "name": "stdout",
     "output_type": "stream",
     "text": [
      "\n",
      "Merge Sort\n",
      "16\t5112\t3293\t3173\t3096\t3133\t3141\t3130\t3255\t3086\t3071\t2993\t3188\t3105\t3047\t3087\t3067\t3139\t3150\t3079\t2961\t2997\t3083\t3226\t3058\t3056\t3055\t3054\t3098\t3200\t3101\t3040\t3031\t\n",
      "256\t176422\t170544\t172642\t712347\t195347\t175308\t168081\t680863\t\n",
      "4096\t25394284\t24924544\t26411708\t\n",
      "65536\t5783845331\t5779171032\t\n",
      "1048576\t1481140277625\t\n"
     ]
    }
   ],
   "source": [
    "if linux:\n",
    "    !./main merge-only\n",
    "elif windows:\n",
    "    ! main.exe merge-only"
   ]
  },
  {
   "cell_type": "markdown",
   "metadata": {},
   "source": [
    "## Prepare the data for processing"
   ]
  },
  {
   "cell_type": "markdown",
   "metadata": {},
   "source": [
    "Load the run-times into Pandas dataframes for processing."
   ]
  },
  {
   "cell_type": "code",
   "execution_count": 2,
   "metadata": {},
   "outputs": [],
   "source": [
    "import numpy as np\n",
    "import pandas as pd\n",
    "import IPython as ipy\n",
    "\n",
    "insertion = pd.read_table('./insertionsort.csv', usecols=range(25), header=None, index_col=0)\n",
    "merge = pd.read_table('./mergesort.csv', usecols=range(25), header=None, index_col=0)"
   ]
  },
  {
   "cell_type": "markdown",
   "metadata": {},
   "source": [
    "#### Insertion Sort Run Times"
   ]
  },
  {
   "cell_type": "code",
   "execution_count": 3,
   "metadata": {},
   "outputs": [
    {
     "data": {
      "text/html": [
       "<table border=\"1\" class=\"dataframe\">\n",
       "  <tbody>\n",
       "    <tr>\n",
       "      <th>16</th>\n",
       "      <td>940</td>\n",
       "      <td>7.630000e+02</td>\n",
       "      <td>588.0</td>\n",
       "      <td>841.0</td>\n",
       "      <td>615.0</td>\n",
       "      <td>...</td>\n",
       "      <td>630.0</td>\n",
       "      <td>626.0</td>\n",
       "      <td>726.0</td>\n",
       "      <td>582.0</td>\n",
       "      <td>645.0</td>\n",
       "    </tr>\n",
       "    <tr>\n",
       "      <th>256</th>\n",
       "      <td>85940</td>\n",
       "      <td>8.873800e+04</td>\n",
       "      <td>84602.0</td>\n",
       "      <td>84805.0</td>\n",
       "      <td>85912.0</td>\n",
       "      <td>...</td>\n",
       "      <td></td>\n",
       "      <td></td>\n",
       "      <td></td>\n",
       "      <td></td>\n",
       "      <td></td>\n",
       "    </tr>\n",
       "    <tr>\n",
       "      <th>4096</th>\n",
       "      <td>22230792</td>\n",
       "      <td>2.152158e+07</td>\n",
       "      <td>22281241.0</td>\n",
       "      <td></td>\n",
       "      <td></td>\n",
       "      <td>...</td>\n",
       "      <td></td>\n",
       "      <td></td>\n",
       "      <td></td>\n",
       "      <td></td>\n",
       "      <td></td>\n",
       "    </tr>\n",
       "    <tr>\n",
       "      <th>65536</th>\n",
       "      <td>5319621618</td>\n",
       "      <td>5.244828e+09</td>\n",
       "      <td></td>\n",
       "      <td></td>\n",
       "      <td></td>\n",
       "      <td>...</td>\n",
       "      <td></td>\n",
       "      <td></td>\n",
       "      <td></td>\n",
       "      <td></td>\n",
       "      <td></td>\n",
       "    </tr>\n",
       "    <tr>\n",
       "      <th>1048576</th>\n",
       "      <td>1336919920815</td>\n",
       "      <td></td>\n",
       "      <td></td>\n",
       "      <td></td>\n",
       "      <td></td>\n",
       "      <td>...</td>\n",
       "      <td></td>\n",
       "      <td></td>\n",
       "      <td></td>\n",
       "      <td></td>\n",
       "      <td></td>\n",
       "    </tr>\n",
       "  </tbody>\n",
       "</table>"
      ],
      "text/plain": [
       "<IPython.core.display.HTML object>"
      ]
     },
     "metadata": {},
     "output_type": "display_data"
    }
   ],
   "source": [
    "ipy.display.display(\n",
    "    ipy.display.HTML(\n",
    "        insertion.to_html(na_rep='', max_cols=10, header=False)))"
   ]
  },
  {
   "cell_type": "markdown",
   "metadata": {},
   "source": [
    "#### Merge Sort Run Times"
   ]
  },
  {
   "cell_type": "code",
   "execution_count": 4,
   "metadata": {},
   "outputs": [
    {
     "data": {
      "text/html": [
       "<table border=\"1\" class=\"dataframe\">\n",
       "  <tbody>\n",
       "    <tr>\n",
       "      <th>16</th>\n",
       "      <td>5112</td>\n",
       "      <td>3.293000e+03</td>\n",
       "      <td>3173.0</td>\n",
       "      <td>3096.0</td>\n",
       "      <td>3133.0</td>\n",
       "      <td>...</td>\n",
       "      <td>2961.0</td>\n",
       "      <td>2997.0</td>\n",
       "      <td>3083.0</td>\n",
       "      <td>3226.0</td>\n",
       "      <td>3058.0</td>\n",
       "    </tr>\n",
       "    <tr>\n",
       "      <th>256</th>\n",
       "      <td>176422</td>\n",
       "      <td>1.705440e+05</td>\n",
       "      <td>172642.0</td>\n",
       "      <td>712347.0</td>\n",
       "      <td>195347.0</td>\n",
       "      <td>...</td>\n",
       "      <td></td>\n",
       "      <td></td>\n",
       "      <td></td>\n",
       "      <td></td>\n",
       "      <td></td>\n",
       "    </tr>\n",
       "    <tr>\n",
       "      <th>4096</th>\n",
       "      <td>25394284</td>\n",
       "      <td>2.492454e+07</td>\n",
       "      <td>26411708.0</td>\n",
       "      <td></td>\n",
       "      <td></td>\n",
       "      <td>...</td>\n",
       "      <td></td>\n",
       "      <td></td>\n",
       "      <td></td>\n",
       "      <td></td>\n",
       "      <td></td>\n",
       "    </tr>\n",
       "    <tr>\n",
       "      <th>65536</th>\n",
       "      <td>5783845331</td>\n",
       "      <td>5.779171e+09</td>\n",
       "      <td></td>\n",
       "      <td></td>\n",
       "      <td></td>\n",
       "      <td>...</td>\n",
       "      <td></td>\n",
       "      <td></td>\n",
       "      <td></td>\n",
       "      <td></td>\n",
       "      <td></td>\n",
       "    </tr>\n",
       "    <tr>\n",
       "      <th>1048576</th>\n",
       "      <td>1481140277625</td>\n",
       "      <td></td>\n",
       "      <td></td>\n",
       "      <td></td>\n",
       "      <td></td>\n",
       "      <td>...</td>\n",
       "      <td></td>\n",
       "      <td></td>\n",
       "      <td></td>\n",
       "      <td></td>\n",
       "      <td></td>\n",
       "    </tr>\n",
       "  </tbody>\n",
       "</table>"
      ],
      "text/plain": [
       "<IPython.core.display.HTML object>"
      ]
     },
     "metadata": {},
     "output_type": "display_data"
    }
   ],
   "source": [
    "ipy.display.display(\n",
    "    ipy.display.HTML(\n",
    "        merge.to_html(na_rep='', max_cols=10, header=False)))"
   ]
  },
  {
   "cell_type": "markdown",
   "metadata": {},
   "source": [
    "Calculate the mean of each row, discarding missing columns."
   ]
  },
  {
   "cell_type": "code",
   "execution_count": 9,
   "metadata": {},
   "outputs": [],
   "source": [
    "insertion_mean = insertion.mean(axis=1).as_matrix()\n",
    "merge_mean = merge.mean(axis=1).as_matrix()"
   ]
  },
  {
   "cell_type": "markdown",
   "metadata": {},
   "source": [
    "The data is stored in rows of the format $n, r_1, r_2, \\ldots r_i$, where $n$ is the size of the array, and $r_i$ is the run-time in nanoseconds of the $i^{\\textrm{th}}$ run, so extract the first row as $x$ values for the graph."
   ]
  },
  {
   "cell_type": "code",
   "execution_count": 10,
   "metadata": {},
   "outputs": [],
   "source": [
    "insertion_xs = insertion.index.tolist()\n",
    "merge_xs = merge.index.tolist()\n",
    "\n",
    "if insertion_xs != merge_xs:\n",
    "    raise ValueError(\n",
    "        \"The two data sets were not tested on arrays of the same sizes.\" +\n",
    "            \"\\n\\tInsertion Sort was tested with arrays of sizes:\\n\\t\\t\" +\n",
    "            str(insertion_xs) +\n",
    "           \"\\n\\tMerge Sort was tested with arrays of sizes:\\n\\t\\t\" +\n",
    "            str(merge_xs))\n",
    "else:\n",
    "    xs = np.array(insertion_xs.copy())\n",
    "    del insertion_xs, merge_xs"
   ]
  },
  {
   "cell_type": "markdown",
   "metadata": {},
   "source": [
    "## Graph the results"
   ]
  },
  {
   "cell_type": "code",
   "execution_count": 14,
   "metadata": {},
   "outputs": [
    {
     "data": {
      "image/png": "[encoded data removed]",
      "text/plain": [
       "<matplotlib.figure.Figure at 0x7f4b58866630>"
      ]
     },
     "metadata": {},
     "output_type": "display_data"
    }
   ],
   "source": [
    "import matplotlib.pyplot as plt\n",
    "import IPython\n",
    "\n",
    "plt.rcParams['figure.figsize'] = [10, 10]\n",
    "plt.plot(xs, insertion_mean, label='Insertion Sort')\n",
    "plt.plot(xs, merge_mean, label='Merge Sort')\n",
    "plt.legend()\n",
    "plt.xscale('log')\n",
    "plt.yscale('log')\n",
    "plt.xlabel(\"Array size $n$\")\n",
    "plt.ylabel('Run Time (ns)')\n",
    "plt.title(\"Average Run Times of Insertion Sort and Merge Sort Compared\")\n",
    "plt.show()"
   ]
  },
  {
   "cell_type": "code",
   "execution_count": 11,
   "metadata": {
    "scrolled": false
   },
   "outputs": [
    {
     "data": {
      "text/plain": [
       "<matplotlib.figure.Figure at 0x7f4b6dee1438>"
      ]
     },
     "metadata": {},
     "output_type": "display_data"
    },
    {
     "data": {
      "text/markdown": [
       "| $n$ | Insertion Sort | Merge Sort |\n",
       "|:---|:---:|:---:|\n",
       "| 16 | 648.08 | 3194.6 |\n",
       "| 256 | 8.6502e+04 | 3.0644e+05 |\n",
       "| 4096 | 2.2011e+07 | 2.5577e+07 |\n",
       "| 65536 | 5.2822e+09 | 5.7815e+09 |\n",
       "| 1048576 | 1.3369e+12 | 1.4811e+12 |\n"
      ],
      "text/plain": [
       "<IPython.core.display.Markdown object>"
      ]
     },
     "execution_count": 11,
     "metadata": {},
     "output_type": "execute_result"
    }
   ],
   "source": [
    "table = \"| $n$ | Insertion Sort | Merge Sort |\\n|:---|:---:|:---:|\\n\"\n",
    "for i in range(len(xs)):\n",
    "    table += \"| {n} | {ins:.5} | {ms:.5} |\\n\".format(\n",
    "        n=xs[i], \n",
    "        ins=insertion_mean[i], \n",
    "        ms=merge_mean[i]\n",
    "    )\n",
    "IPython.display.Markdown(table)"
   ]
  },
  {
   "cell_type": "markdown",
   "metadata": {},
   "source": [
    "## Notebook Cleanup/Additional Information"
   ]
  },
  {
   "cell_type": "markdown",
   "metadata": {},
   "source": [
    "### This document was created with the following software versions:"
   ]
  },
  {
   "cell_type": "code",
   "execution_count": 12,
   "metadata": {},
   "outputs": [
    {
     "name": "stdout",
     "output_type": "stream",
     "text": [
      "\n",
      "INSTALLED VERSIONS\n",
      "------------------\n",
      "commit: None\n",
      "python: 3.6.4.final.0\n",
      "python-bits: 64\n",
      "OS: Linux\n",
      "OS-release: 4.13.0-38-lowlatency\n",
      "machine: x86_64\n",
      "processor: x86_64\n",
      "byteorder: little\n",
      "LC_ALL: None\n",
      "LANG: en_US.UTF-8\n",
      "LOCALE: en_US.UTF-8\n",
      "\n",
      "pandas: 0.22.0\n",
      "pytest: 3.3.2\n",
      "pip: 9.0.1\n",
      "setuptools: 38.4.0\n",
      "Cython: 0.27.3\n",
      "numpy: 1.14.0\n",
      "scipy: 1.0.0\n",
      "pyarrow: None\n",
      "xarray: None\n",
      "IPython: 6.2.1\n",
      "sphinx: 1.6.6\n",
      "patsy: 0.5.0\n",
      "dateutil: 2.6.1\n",
      "pytz: 2017.3\n",
      "blosc: None\n",
      "bottleneck: 1.2.1\n",
      "tables: 3.4.2\n",
      "numexpr: 2.6.4\n",
      "feather: None\n",
      "matplotlib: 2.1.2\n",
      "openpyxl: 2.4.10\n",
      "xlrd: 1.1.0\n",
      "xlwt: 1.3.0\n",
      "xlsxwriter: 1.0.2\n",
      "lxml: 4.1.1\n",
      "bs4: 4.6.0\n",
      "html5lib: 0.9999999\n",
      "sqlalchemy: 1.2.1\n",
      "pymysql: None\n",
      "psycopg2: None\n",
      "jinja2: 2.10\n",
      "s3fs: None\n",
      "fastparquet: None\n",
      "pandas_gbq: None\n",
      "pandas_datareader: None\n"
     ]
    }
   ],
   "source": [
    "pd.show_versions()"
   ]
  },
  {
   "cell_type": "code",
   "execution_count": 5,
   "metadata": {},
   "outputs": [
    {
     "data": {
      "application/javascript": [
       "// Hide \"In [*]\" prompts in notebook.\n",
       "$('div.prompt').hide();"
      ],
      "text/plain": [
       "<IPython.core.display.Javascript object>"
      ]
     },
     "metadata": {},
     "output_type": "display_data"
    }
   ],
   "source": [
    "%%javascript\n",
    "// Hide \"In [*]\" prompts in notebook.\n",
    "$('div.prompt').hide();"
   ]
  }
 ],
 "metadata": {
  "kernelspec": {
   "display_name": "Python 3",
   "language": "python",
   "name": "python3"
  },
  "language_info": {
   "codemirror_mode": {
    "name": "ipython",
    "version": 3
   },
   "file_extension": ".py",
   "mimetype": "text/x-python",
   "name": "python",
   "nbconvert_exporter": "python",
   "pygments_lexer": "ipython3",
   "version": "3.6.4"
  }
 },
 "nbformat": 4,
 "nbformat_minor": 2
}
