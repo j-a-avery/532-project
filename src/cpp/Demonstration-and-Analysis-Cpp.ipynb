{
 "cells": [
  {
   "cell_type": "markdown",
   "metadata": {},
   "source": [
    "# CSCI 532 Semester Project Demonstration and Analysis\n",
    "\n",
    "James Avery"
   ]
  },
  {
   "cell_type": "markdown",
   "metadata": {},
   "source": [
    "## Problem #3"
   ]
  },
  {
   "cell_type": "markdown",
   "metadata": {},
   "source": [
    ">Write a C/C++/Matlab/Java program to compute insertion sort and merge sort. (You can use the code from the textbooks by Deitel and Deitel or from the web.) Obtain the run time of both routines.\n",
    "\n",
    ">The input data should be an int array containing random element values (between, say, 0 and 1023). Obtain run time T with 1D (input) array of size of $n = 16$, $256$, $4096$, $65536$, $1048576$ (i.e. $2^p$, where $p = 4$, $8$, $12$, $16$, $20$). The run time for each $n$ should be averaged with about $\\left\\lfloor{\\frac{512}{p \\times p}}\\right\\rfloor$ runs. Each run for a given $n$ should use a different random input.\n",
    "\n",
    ">Plot (with Excel, Matlab, or other available tools) the run time for both routines on one plot, with the $x$ axis in $p$ values, and $y$ axis in $\\log{T}$. Label on the plot which curve is for insertion sort and which is for merge sort.\n",
    "\n",
    ">Submit C/C++ programs and plot, with instructions in readme.txt on how to build and run the program. (Include the Dev-C++/MS Visual Studio/Java NetBeans project file.)"
   ]
  },
  {
   "cell_type": "markdown",
   "metadata": {},
   "source": [
    "In addition to the above, I also added a number of command line arguments to make testing more interactive:\n",
    "* `insertion-only`: Prevents merge sort from being run\n",
    "* `merge-only`: Prevents insertion sort from being run\n",
    "* `equal-batches`: Instead of running each sort $\\left\\lfloor\\frac{512}{p\\times{p}}\\right\\rfloor$ times, run in equal-sized batches. This takes a lot longer, but allows for more accurate analysis, as well as processing run-time data in Python using NumPy\n",
    "* `limit-n`: Limits the size of arrays to those that run quickly, i.e., arrays smaller than around 1 million items. This speeds testing the algorithms' run-times, especially when `equal-batches` is also used.\n",
    "* `demo-sorters`: Demonstrates the sorting routines (specifically that they actually do sort arrays).\n",
    "* `no-time`: Does not obtain run-times for the sorting algorithms (i.e. does not do what the assignment requires, in order to shorten run-times for `demo-sorters`.)"
   ]
  },
  {
   "cell_type": "markdown",
   "metadata": {},
   "source": [
    "## Build the project"
   ]
  },
  {
   "cell_type": "markdown",
   "metadata": {},
   "source": [
    "In Linux the program may be built at the command line by typing\n",
    "\n",
    "```\n",
    "g++ -std=\"c++14\" main.cpp -o main\n",
    "```\n",
    "\n",
    "In Windows, the program must be built using the Visual Studio Command Prompt with the command\n",
    "\n",
    "```\n",
    "cl main.cpp\n",
    "```"
   ]
  },
  {
   "cell_type": "markdown",
   "metadata": {},
   "source": [
    "The code cell below checks to see if the executable exists, and builds it if it does not."
   ]
  },
  {
   "cell_type": "code",
   "execution_count": 1,
   "metadata": {},
   "outputs": [
    {
     "name": "stdout",
     "output_type": "stream",
     "text": [
      "Executable exists for Linux.\n"
     ]
    }
   ],
   "source": [
    "import os\n",
    "import platform\n",
    "\n",
    "linux = platform.system() == \"Linux\"\n",
    "windows = platform.system() == \"Windows\"\n",
    "\n",
    "gomain_exists = os.access(\"main\", os.F_OK)\n",
    "gomainexe_exists = os.access(\"main\", os.F_OK)\n",
    "\n",
    "gomain_is_executable = os.access(\"main\", os.X_OK)\n",
    "gomainexe_is_executable = os.access(\"main.exe\", os.X_OK)\n",
    "\n",
    "if linux and gomain_is_executable:\n",
    "    print(\"Executable exists for Linux.\")\n",
    "elif linux and not gomain_is_executable and not gomain_exists:\n",
    "    print(\"Building for Linux\")\n",
    "    !g++ -std=\"c++14\" main.cpp -o main\n",
    "    print(\"Done.\")\n",
    "elif windows and gomainexe_is_executable:\n",
    "    print(\"Executable exists for Windows.\")\n",
    "elif windows and not gomainexe_is_executable and not gomainexe_exists:\n",
    "    print(\"Building for Windows\")\n",
    "    !cl main.exe\n",
    "    print(\"Done.\")\n",
    "else:\n",
    "    print(\"Either this is an unsupported OS, or something else is wrong.\")"
   ]
  },
  {
   "cell_type": "markdown",
   "metadata": {},
   "source": [
    "## Demonstrate that the sorters sort correctly"
   ]
  },
  {
   "cell_type": "markdown",
   "metadata": {},
   "source": [
    "Using a combination of the `demo-sorters` and `no-time` command line arguments, it is possible to demonstrate that the insertion sort and merge sort functions do indeed sort arrays into nondecreasing order."
   ]
  },
  {
   "cell_type": "markdown",
   "metadata": {},
   "source": [
    "### Insertion Sort"
   ]
  },
  {
   "cell_type": "code",
   "execution_count": 2,
   "metadata": {
    "scrolled": false
   },
   "outputs": [
    {
     "name": "stdout",
     "output_type": "stream",
     "text": [
      "\r\n",
      "=====  Demonstrating Insertion Sort  =====\r\n",
      "\r\n",
      "Before: 521 159 893 1024 139 347 963 699 45 645 \r\n",
      "After: 45 139 159 347 521 645 699 893 963 1024 \r\n",
      "\r\n",
      "Before: 855 46 11 677 563 981 191 495 150 838 \r\n",
      "After: 11 46 150 191 495 563 677 838 855 981 \r\n",
      "\r\n",
      "Before: 999 679 424 45 162 606 248 210 46 285 \r\n",
      "After: 45 46 162 210 248 285 424 606 679 999 \r\n",
      "\r\n",
      "Before: 112 72 540 530 1011 204 717 475 971 495 \r\n",
      "After: 72 112 204 475 495 530 540 717 971 1011 \r\n",
      "\r\n",
      "Before: 872 10 330 544 481 185 975 574 22 326 \r\n",
      "After: 10 22 185 326 330 481 544 574 872 975 \r\n",
      "\r\n",
      "Before: 676 429 383 828 855 683 529 667 382 191 \r\n",
      "After: 191 382 383 429 529 667 676 683 828 855 \r\n",
      "\r\n",
      "Before: 898 835 350 435 999 121 484 127 1019 912 \r\n",
      "After: 121 127 350 435 484 835 898 912 999 1019 \r\n",
      "\r\n",
      "Before: 723 177 442 57 352 253 944 224 855 697 \r\n",
      "After: 57 177 224 253 352 442 697 723 855 944 \r\n",
      "\r\n",
      "Before: 231 542 376 427 812 442 191 756 821 601 \r\n",
      "After: 191 231 376 427 442 542 601 756 812 821 \r\n",
      "\r\n",
      "Before: 911 694 604 784 135 39 963 1021 476 260 \r\n",
      "After: 39 135 260 476 604 694 784 911 963 1021 \r\n"
     ]
    }
   ],
   "source": [
    "if linux:\n",
    "    ! ./main demo-sorters insertion-only no-time\n",
    "elif windows:\n",
    "    ! main.exe demo-sorters merge-only no-time"
   ]
  },
  {
   "cell_type": "markdown",
   "metadata": {},
   "source": [
    "### Merge Sort"
   ]
  },
  {
   "cell_type": "code",
   "execution_count": 3,
   "metadata": {},
   "outputs": [
    {
     "name": "stdout",
     "output_type": "stream",
     "text": [
      "\r\n",
      "=====  Demonstrating Merge Sort  =====\r\n",
      "\r\n",
      "Before: 545 1 3 103 698 95 1016 215 858 828 \r\n",
      "After: 1 3 95 103 215 545 698 828 858 1016 \r\n",
      "\r\n",
      "Before: 326 390 581 1011 502 186 854 479 494 922 \r\n",
      "After: 186 326 390 479 494 502 581 854 922 1011 \r\n",
      "\r\n",
      "Before: 450 942 387 1005 653 313 27 246 551 323 \r\n",
      "After: 27 246 313 323 387 450 551 653 942 1005 \r\n",
      "\r\n",
      "Before: 134 768 450 243 38 567 359 506 554 451 \r\n",
      "After: 38 134 243 359 450 451 506 554 567 768 \r\n",
      "\r\n",
      "Before: 806 929 193 988 528 816 224 397 554 415 \r\n",
      "After: 193 224 397 415 528 554 806 816 929 988 \r\n",
      "\r\n",
      "Before: 193 484 1009 147 233 418 487 989 338 262 \r\n",
      "After: 147 193 233 262 338 418 484 487 989 1009 \r\n",
      "\r\n",
      "Before: 491 698 902 866 239 924 657 707 168 763 \r\n",
      "After: 168 239 491 657 698 707 763 866 902 924 \r\n",
      "\r\n",
      "Before: 523 624 170 1012 860 985 943 554 859 512 \r\n",
      "After: 170 512 523 554 624 859 860 943 985 1012 \r\n",
      "\r\n",
      "Before: 75 155 912 184 799 136 706 758 839 512 \r\n",
      "After: 75 136 155 184 512 706 758 799 839 912 \r\n",
      "\r\n",
      "Before: 946 921 952 1006 910 67 257 373 863 290 \r\n",
      "After: 67 257 290 373 863 910 921 946 952 1006 \r\n"
     ]
    }
   ],
   "source": [
    "if linux:\n",
    "    ! ./main demo-sorters merge-only no-time\n",
    "elif windows:\n",
    "    ! main.exe demo-sorters merge-only no-time"
   ]
  },
  {
   "cell_type": "markdown",
   "metadata": {},
   "source": [
    "## Find Run-Times"
   ]
  },
  {
   "cell_type": "markdown",
   "metadata": {},
   "source": [
    "This is the main part of project as assigned, with one difference: for the analysis portion I run the sorters with the `equal-batches` flag, in order to use NumPy to analyze the data."
   ]
  },
  {
   "cell_type": "markdown",
   "metadata": {},
   "source": [
    "### Insertion Sort"
   ]
  },
  {
   "cell_type": "code",
   "execution_count": 4,
   "metadata": {
    "scrolled": false
   },
   "outputs": [
    {
     "name": "stdout",
     "output_type": "stream",
     "text": [
      "\n",
      "Insertion Sort\n",
      "16\t4839\t4690\t3830\t4051\t3362\t3860\t3594\t2927\t4516\t4603\t4769\t3582\t2973\t3107\t2804\t3265\t55886\t3808\t3076\t3630\t2960\t3010\t3267\t3684\t\n",
      "256\t459786\t479782\t451805\t524425\t464094\t487166\t494967\t524320\t579410\t418204\t567934\t620354\t445473\t511668\t454595\t455617\t443490\t462504\t304376\t321526\t293997\t394696\t498789\t473233\t\n",
      "4096\t36769729\t23819309\t21120683\t22607506\t21563811\t21508224\t21837986\t21550066\t23095678\t21211709\t23824101\t23207702\t22241403\t21812256\t22485546\t22142055\t22505178\t20952424\t20926880\t22338953\t21124140\t23326938\t20906038\t23576969\t\n",
      "65536\t5238652263\t5187336588\t5181442411\t5180998215\t5194265269\t5160026469\t5179827872\t5150252032\t5148636348\t5175753409\t5219560724\t5142635135\t5362885840\t5150784871\t5184814318\t5170180149\t5210119634\t5206540147\t5174745721\t5165519135\t5164903569\t5169296763\t5209598927\t5187466130\t\n"
     ]
    }
   ],
   "source": [
    "if linux:\n",
    "    ! ./main insertion-only equal-batches\n",
    "elif windows:\n",
    "    ! main.exe insertion-only equal-batches"
   ]
  },
  {
   "cell_type": "markdown",
   "metadata": {},
   "source": [
    "### Merge Sort"
   ]
  },
  {
   "cell_type": "code",
   "execution_count": 5,
   "metadata": {},
   "outputs": [
    {
     "name": "stdout",
     "output_type": "stream",
     "text": [
      "\n",
      "Merge Sort\n",
      "16\t4975\t3448\t3192\t3118\t3061\t3081\t3162\t3071\t3073\t2990\t3012\t2970\t3085\t3037\t2994\t3056\t3014\t2953\t2980\t2994\t3633\t4113\t3003\t3081\t\n",
      "256\t160909\t169718\t160375\t159810\t163579\t166290\t161390\t166933\t160909\t169753\t169603\t165880\t171729\t166603\t171845\t687993\t185350\t165612\t168451\t693534\t182649\t165235\t165400\t165344\t\n",
      "4096\t26930448\t25407722\t25523103\t27011363\t24665678\t26557782\t24577978\t28081174\t25268123\t26353537\t24813902\t26648025\t24110421\t27483664\t24321374\t26740652\t24726516\t26991380\t24226676\t27492930\t24523021\t26189954\t24612086\t27346090\t\n",
      "65536\t5858045470\t5920123256\t6065228479\t6078545838\t6043765998\t5886061321\t5930163447\t6015422987\t6034750371\t5981933464\t5891841105\t5940218531\t6197444239\t5996701546\t6115448849\t6028366760\t5908377267\t5829156254\t5902779884\t5920888912\t5856277452\t5917998980\t6139725899\t5996109864\t\n"
     ]
    }
   ],
   "source": [
    "if linux:\n",
    "    !./main merge-only equal-batches limit-n\n",
    "elif windows:\n",
    "    ! main.exe merge-only equal-batches limit-n"
   ]
  },
  {
   "cell_type": "markdown",
   "metadata": {},
   "source": [
    "## Prepare the data for processing"
   ]
  },
  {
   "cell_type": "markdown",
   "metadata": {},
   "source": [
    "Load the run-times into numpy arrays for processing. (Note that NumPy requires each row of an array to be the same length, so this only works if the program was run with `equal-batches` as above.)"
   ]
  },
  {
   "cell_type": "code",
   "execution_count": 11,
   "metadata": {},
   "outputs": [],
   "source": [
    "import numpy as np\n",
    "\n",
    "insertion = np.loadtxt(\n",
    "    './insertionsort.csv', dtype='uint64')\n",
    "merge = np.loadtxt(\n",
    "    './mergesort.csv', dtype='uint64')"
   ]
  },
  {
   "cell_type": "markdown",
   "metadata": {},
   "source": [
    "The data is stored in rows of the format $n, r_1, r_2, \\ldots r_i$, where $n$ is the size of the array, and $r_i$ is the run-time in nanoseconds of the $i^{\\textrm{th}}$ run, so a little data muging is necessary. The first column becomes the labels, and the subsequent columns are retained as data."
   ]
  },
  {
   "cell_type": "code",
   "execution_count": 12,
   "metadata": {},
   "outputs": [],
   "source": [
    "insertion_labels = insertion[:, 0]\n",
    "insertion = insertion[:, 1:]\n",
    "merge_labels = merge[:, 0]\n",
    "merge = merge[:, 1:]"
   ]
  },
  {
   "cell_type": "markdown",
   "metadata": {},
   "source": [
    "The `*_labels` arrays *should* contain exactly the same data. If they don't, something has gone wrong. If they do, then it's safe to remove one of them and just use the other for all labels."
   ]
  },
  {
   "cell_type": "code",
   "execution_count": 13,
   "metadata": {},
   "outputs": [],
   "source": [
    "if not np.all(insertion_labels == merge_labels):\n",
    "    raise ValueError(\n",
    "        \"The two data sets were not tested on arrays of the same sizes.\" +\n",
    "            \"\\n\\tInsertion Sort was tested with arrays of sizes:\\n\\t\\t\" +\n",
    "            str(insertion_labels) +\n",
    "            \"\\n\\tMerge Sort was tested with arrays of sizes:\\n\\t\\t\" +\n",
    "            str(merge_labels))\n",
    "else:\n",
    "    labels = insertion_labels.copy()\n",
    "    del merge_labels, insertion_labels"
   ]
  },
  {
   "cell_type": "markdown",
   "metadata": {},
   "source": [
    "Find the mean run time for each vector size and each algorithm."
   ]
  },
  {
   "cell_type": "code",
   "execution_count": 14,
   "metadata": {},
   "outputs": [],
   "source": [
    "insertion_mean, merge_mean = insertion.mean(axis=1), merge.mean(axis=1)"
   ]
  },
  {
   "cell_type": "markdown",
   "metadata": {},
   "source": [
    "## Graph the results"
   ]
  },
  {
   "cell_type": "code",
   "execution_count": 17,
   "metadata": {
    "scrolled": false
   },
   "outputs": [
    {
     "data": {
      "image/png": "[encoded data removed]",
      "text/plain": [
       "<matplotlib.figure.Figure at 0x7f1ee22949e8>"
      ]
     },
     "metadata": {},
     "output_type": "display_data"
    },
    {
     "data": {
      "text/markdown": [
       "| $n$ | Insertion Sort | Merge Sort |\n",
       "|:---|:---:|:---:|\n",
       "| 16 | 5837.2 | 3212.3 |\n",
       "| 256 | 4.6384e+05 | 2.1104e+05 |\n",
       "| 4096 | 2.2769e+07 | 2.5858e+07 |\n",
       "| 65536 | 5.1882e+09 | 5.9773e+09 |\n"
      ],
      "text/plain": [
       "<IPython.core.display.Markdown object>"
      ]
     },
     "execution_count": 17,
     "metadata": {},
     "output_type": "execute_result"
    }
   ],
   "source": [
    "import matplotlib.pyplot as plt\n",
    "import IPython\n",
    "\n",
    "plt.rcParams['figure.figsize'] = [10, 10]\n",
    "plt.plot(labels, insertion_mean, label='Insertion Sort')\n",
    "plt.plot(labels, merge_mean, label='Merge Sort')\n",
    "plt.legend()\n",
    "plt.xscale('log')\n",
    "plt.yscale('log')\n",
    "plt.xlabel(\"Array size $n$\")\n",
    "plt.ylabel('Run Time (ns)')\n",
    "plt.title(\"Average Run Times of Insertion Sort and Merge Sort Compared\")\n",
    "plt.show()\n",
    "\n",
    "table = \"| $n$ | Insertion Sort | Merge Sort |\\n|:---|:---:|:---:|\\n\"\n",
    "for i in range(len(labels)):\n",
    "    table += \"| {n} | {ins:.5} | {ms:.5} |\\n\".format(\n",
    "        n=labels[i], \n",
    "        ins=insertion_mean[i], \n",
    "        ms=merge_mean[i]\n",
    "    )\n",
    "IPython.display.Markdown(table)"
   ]
  }
 ],
 "metadata": {
  "kernelspec": {
   "display_name": "Python 3",
   "language": "python",
   "name": "python3"
  },
  "language_info": {
   "codemirror_mode": {
    "name": "ipython",
    "version": 3
   },
   "file_extension": ".py",
   "mimetype": "text/x-python",
   "name": "python",
   "nbconvert_exporter": "python",
   "pygments_lexer": "ipython3",
   "version": "3.6.4"
  }
 },
 "nbformat": 4,
 "nbformat_minor": 2
}
