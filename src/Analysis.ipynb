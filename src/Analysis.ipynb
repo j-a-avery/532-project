{
 "cells": [
  {
   "cell_type": "markdown",
   "metadata": {},
   "source": [
    "# CSCI 532 Semester Project\n",
    "\n",
    "James Avery"
   ]
  },
  {
   "cell_type": "markdown",
   "metadata": {},
   "source": [
    "## Problem #3\n",
    "\n",
    "Write a C/C++/Matlab/Java program to compute insertion sort and merge sort. (You can use the code from the textbooks by Deitel and Deitel or from the web.) Obtain the run time of both routines.\n",
    "\n",
    "The input data should be an int array containing random element values (between, say, 0 and 1023). Obtain run time T with 1D (input) array of size of $n = 16$, $256$, $4096$, $65536$, $1048576$ (i.e. $2^p$, where $p = 4$, $8$, $12$, $16$, $20$). The run time for each $n$ should be averaged with about $\\left\\lfloor{\\frac{512}{p \\times p}}\\right\\rfloor$ runs. Each run for a given $n$ should use a different random input.\n",
    "\n",
    "Plot (with Excel, Matlab, or other available tools) the run time for both routines on one plot, with the $x$ axis in $p$ values, and $y$ axis in $\\log{T}$. Label on the plot which curve is for insertion sort and which is for merge sort.\n",
    "\n",
    "Submit C/C++ programs and plot, with instructions in readme.txt on how to build and run the program. (Include the Dev-C++/MS Visual Studio/Java NetBeans project file.)"
   ]
  },
  {
   "cell_type": "code",
   "execution_count": null,
   "metadata": {},
   "outputs": [],
   "source": [
    "import numpy as np\n",
    "import matplotlib.pyplot as plt\n",
    "\n",
    "plt.rcParams['figure.figsize'] = [10, 10]"
   ]
  },
  {
   "cell_type": "markdown",
   "metadata": {},
   "source": [
    "## Step 1: Run the program"
   ]
  },
  {
   "cell_type": "code",
   "execution_count": null,
   "metadata": {
    "scrolled": false
   },
   "outputs": [
    {
     "name": "stdout",
     "output_type": "stream",
     "text": [
      "\n",
      "Insertion Sort\n",
      "16\t2388\t1523\t1945\t2272\t2196\t1852\t1465\t1632\t1717\t1534\t1558\t1204\t1762\t1494\t1686\t1503\t\n",
      "256\t239940\t223852\t193350\t216419\t220621\t188292\t184754\t229196\t223936\t179626\t191753\t164988\t173153\t159836\t148061\t159177\t\n",
      "4096\t20884573\t21901991\t22516085\t20604152\t22395666\t21465487\t22468381\t20873074\t21494206\t22562176\t20741110\t22501485\t21030232\t21045922\t22937117\t21337587\t\n",
      "65536\t5185876694\t5259671355\t5181900884\t5166668660\t5209552283\t5188435030\t5179310562\t5139363408\t5191147454\t5289887544\t5266759992\t5324605382\t5251156409\t5251010780\t5289432749\t5302225199\t\n",
      "1048576\t1324292812649\t"
     ]
    }
   ],
   "source": [
    "#Run the program\n",
    "%time !./all equal-batches"
   ]
  },
  {
   "cell_type": "markdown",
   "metadata": {},
   "source": [
    "Just to be sure, list the contents of the directory to make sure the data files exist."
   ]
  },
  {
   "cell_type": "code",
   "execution_count": null,
   "metadata": {},
   "outputs": [],
   "source": [
    "!ls *.txt"
   ]
  },
  {
   "cell_type": "markdown",
   "metadata": {},
   "source": [
    "## Step 2: Prepare the data for processing"
   ]
  },
  {
   "cell_type": "markdown",
   "metadata": {},
   "source": [
    "Load the run-times into numpy arrays for processing.\n",
    "\n",
    "**Note that this will only work if the program was run with the `equal-batches` flag set.** Numpy requires that each row have the same number of columns."
   ]
  },
  {
   "cell_type": "code",
   "execution_count": null,
   "metadata": {},
   "outputs": [],
   "source": [
    "insertion = np.loadtxt(\n",
    "    './insertionsort.txt', dtype='int64')\n",
    "merge = np.loadtxt(\n",
    "    './mergesort.txt', dtype='int64')"
   ]
  },
  {
   "cell_type": "markdown",
   "metadata": {},
   "source": [
    "The data is stored in rows of the format $n, r_1, r_2, \\ldots r_i$, where $n$ is the size of the array, and $r_i$ is the run-time in nanoseconds of the $i^{\\textrm{th}}$ run, so a little data muging is necessary. The first column becomes the labels, and the subsequent columns are retained as data."
   ]
  },
  {
   "cell_type": "code",
   "execution_count": null,
   "metadata": {},
   "outputs": [],
   "source": [
    "insertion_labels = insertion[:, 0]\n",
    "insertion = insertion[:, 1:]\n",
    "merge_labels = merge[:, 0]\n",
    "merge = merge[:, 1:]"
   ]
  },
  {
   "cell_type": "markdown",
   "metadata": {},
   "source": [
    "The `*_labels` arrays *should* contain exactly the same data. If they don't, something has gone wrong. If they do, then it's safe to remove one of them and just use the other for all labels."
   ]
  },
  {
   "cell_type": "code",
   "execution_count": null,
   "metadata": {},
   "outputs": [],
   "source": [
    "if not np.all(insertion_labels == merge_labels):\n",
    "    raise ValueError(\n",
    "        \"The two data sets were not tested on arrays of the same sizes.\" +\n",
    "            \"\\n\\tInsertion Sort was tested with arrays of sizes:\\n\\t\\t\" +\n",
    "            str(insertion_labels) +\n",
    "            \"\\n\\tMerge Sort was tested with arrays of sizes:\\n\\t\\t\" +\n",
    "            str(merge_labels))\n",
    "else:\n",
    "    labels = insertion_labels\n",
    "    del merge_labels"
   ]
  },
  {
   "cell_type": "markdown",
   "metadata": {},
   "source": [
    "Find the means of each run-time"
   ]
  },
  {
   "cell_type": "code",
   "execution_count": null,
   "metadata": {},
   "outputs": [],
   "source": [
    "insertion_mean, merge_mean = insertion.mean(axis=1), merge.mean(axis=1)"
   ]
  },
  {
   "cell_type": "markdown",
   "metadata": {},
   "source": [
    "## Step 3: Graph results"
   ]
  },
  {
   "cell_type": "code",
   "execution_count": null,
   "metadata": {},
   "outputs": [],
   "source": [
    "plt.plot(labels, insertion.mean(axis=1), label='Insertion Sort')\n",
    "plt.plot(labels, merge.mean(axis=1), label='Merge Sort')\n",
    "plt.legend()\n",
    "plt.xscale('log')\n",
    "plt.yscale('log')\n",
    "plt.xlabel(\"Array size $n$\")\n",
    "plt.ylabel('Run Time (ns)')\n",
    "plt.title(\"Run times of Insertion Sort and Merge Sort compared\")"
   ]
  }
 ],
 "metadata": {
  "kernelspec": {
   "display_name": "Python 3",
   "language": "python",
   "name": "python3"
  },
  "language_info": {
   "codemirror_mode": {
    "name": "ipython",
    "version": 3
   },
   "file_extension": ".py",
   "mimetype": "text/x-python",
   "name": "python",
   "nbconvert_exporter": "python",
   "pygments_lexer": "ipython3",
   "version": "3.6.4"
  }
 },
 "nbformat": 4,
 "nbformat_minor": 2
}
