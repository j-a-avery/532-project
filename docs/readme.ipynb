{
 "cells": [
  {
   "cell_type": "markdown",
   "metadata": {},
   "source": [
    "# Readme"
   ]
  },
  {
   "cell_type": "markdown",
   "metadata": {},
   "source": [
    "## Build and Run the Project as Assigned"
   ]
  },
  {
   "cell_type": "markdown",
   "metadata": {},
   "source": [
    "This option will only build only those portions of the problem explicitly assigned &mdash; insertion sort and mergesort."
   ]
  },
  {
   "cell_type": "markdown",
   "metadata": {},
   "source": [
    "In a new terminal window type\n",
    "```bash\n",
    "make base\n",
    "```"
   ]
  },
  {
   "cell_type": "markdown",
   "metadata": {},
   "source": [
    "To run in the terminal, run\n",
    "```bash\n",
    "./javery532.py\n",
    "```\n",
    "This will run the project in a normal Python interpreter. Output graphs will appear in a separate window."
   ]
  },
  {
   "cell_type": "markdown",
   "metadata": {},
   "source": [
    "To run in a Jupyter notebook, type\n",
    "```bash\n",
    "jupyter notebook\n",
    "```\n",
    "This will open a new browser window (or a new tab in a currently open browser window) to Jupyter's view of the current folder. Click `javery532.ipynb` to open the project notebook in a new tab. In the menu, click `Kernel`, then `Restart & Run All`. This will run all of the assigned sort benchmarks and present the graphs in a single document."
   ]
  },
  {
   "cell_type": "markdown",
   "metadata": {},
   "source": [
    "## All components"
   ]
  },
  {
   "cell_type": "markdown",
   "metadata": {},
   "source": [
    "This option will build and install all components &mdash; insertion sort, merge sort, multithreaded merge sort, and CUDA merge sort."
   ]
  },
  {
   "cell_type": "markdown",
   "metadata": {},
   "source": []
  }
 ],
 "metadata": {
  "kernelspec": {
   "display_name": "Python 3",
   "language": "python",
   "name": "python3"
  },
  "language_info": {
   "codemirror_mode": {
    "name": "ipython",
    "version": 3
   },
   "file_extension": ".py",
   "mimetype": "text/x-python",
   "name": "python",
   "nbconvert_exporter": "python",
   "pygments_lexer": "ipython3",
   "version": "3.6.4"
  }
 },
 "nbformat": 4,
 "nbformat_minor": 2
}
