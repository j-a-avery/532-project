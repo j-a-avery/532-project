{
 "cells": [
  {
   "cell_type": "markdown",
   "metadata": {},
   "source": [
    "# CSCI 532 Semester Project\n",
    "\n",
    "James Avery"
   ]
  },
  {
   "cell_type": "markdown",
   "metadata": {},
   "source": [
    "## Problem #3\n",
    "\n",
    "Write a C/C++/Matlab/Java program to compute insertion sort and merge sort. (You can use the code from the textbooks by Deitel and Deitel or from the web.) Obtain the run time of both routines.\n",
    "\n",
    "The input data should be an int array containing random element values (between, say, 0 and 1023). Obtain run time T with 1D (input) array of size of $n = 16$, $256$, $4096$, $65536$, $1048576$ (i.e. $2^p$, where $p = 4$, $8$, $12$, $16$, $20$). The run time for each $n$ should be averaged with about $\\left\\lfloor{\\frac{512}{p \\times p}}\\right\\rfloor$ runs. Each run for a given $n$ should use a different random input.\n",
    "\n",
    "Plot (with Excel, Matlab, or other available tools) the run time for both routines on one plot, with the $x$ axis in $p$ values, and $y$ axis in $\\log{T}$. Label on the plot which curve is for insertion sort and which is for merge sort.\n",
    "\n",
    "Submit C/C++ programs and plot, with instructions in readme.txt on how to build and run the program. (Include the Dev-C++/MS Visual Studio/Java NetBeans project file.)"
   ]
  },
  {
   "cell_type": "code",
   "execution_count": 1,
   "metadata": {},
   "outputs": [],
   "source": [
    "import numpy as np\n",
    "import matplotlib.pyplot as plt\n",
    "\n",
    "plt.rcParams['figure.figsize'] = [10, 10]"
   ]
  },
  {
   "cell_type": "markdown",
   "metadata": {},
   "source": [
    "## Step 1: Run the program"
   ]
  },
  {
   "cell_type": "code",
   "execution_count": 2,
   "metadata": {
    "scrolled": false
   },
   "outputs": [
    {
     "name": "stdout",
     "output_type": "stream",
     "text": [
      "\n",
      " Insertion Sort\n",
      "16\t323\t219\t219\t197\t241\t247\t185\t261\t190\t188\t184\t220\t206\t198\t180\t214\t170\t186\t176\t221\t186\t181\t198\t221\t\n",
      "256\t14368\t14619\t15121\t13803\t15224\t15375\t15052\t15155\t16258\t15361\t16473\t17615\t16113\t15091\t14971\t15741\t16100\t15540\t15817\t15177\t14355\t15519\t14131\t15164\t\n",
      "4096\t3500624\t3519587\t3433951\t3347453\t3358139\t3344035\t3532789\t3395669\t3350328\t4506557\t5193180\t3277136\t3513598\t3757386\t3746573\t4594054\t3393162\t3509986\t3469746\t3563083\t3475979\t3315264\t3388452\t3422763\t\n",
      "65536\t885131846\t854674417\t857960436\t852298956\t856758480\t850376936\t849961599\t858317980\t864701809\t854482712\t851861326\t853417450\t847104323\t849970656\t865838685\t854207516\t854817488\t855983751\t851502364\t849078270\t865059315\t862161426\t853192325\t860242941\t\n",
      "1048576\t222640881918\t221932003979\t222198245922\t222314494544\t220668927480\t226253883875\t223503744245\t227312074605\t224496757866\t223117394485\t224703525568\t223759311095\t223896592579\t224453041273\t225739006178\t224608930652\t225251049372\t224126212022\t224360842168\t225544010930\t224501757348\t225196408274\t224756134214\t225903488001\t\n",
      "\n",
      " Merge Sort\n",
      "16\t1625\t1424\t1408\t1258\t1212\t1134\t1245\t1256\t1302\t1348\t1466\t1250\t1439\t1199\t1300\t1337\t1295\t1387\t1274\t1238\t1274\t1322\t1326\t1276\t\n",
      "256\t29777\t30106\t29113\t33430\t31768\t36816\t25297\t34712\t24548\t26343\t21936\t24035\t22415\t26734\t21848\t23735\t22073\t26771\t21893\t25473\t21938\t26511\t21647\t23856\t\n",
      "4096\t665060\t502789\t551099\t564917\t515774\t507735\t502151\t498029\t978711\t478471\t447775\t394111\t453816\t425083\t443973\t397296\t431959\t728167\t410407\t442205\t412995\t442791\t425111\t394537\t\n",
      "65536\t8447938\t8129229\t8036369\t8449296\t8185418\t8256589\t8751276\t8744604\t8851018\t8788880\t8696057\t9121205\t9061251\t8888156\t9108289\t11408487\t15063042\t17608780\t17763696\t17735595\t17344330\t17718519\t17324820\t17614452\t\n",
      "1048576\t137737413\t134375057\t135311158\t135123118\t132651977\t136147426\t136920292\t135199151\t150113193\t145229037\t140764092\t133368175\t138802054\t133080904\t137351292\t139194667\t135876739\t136245931\t138006001\t138090948\t141517162\t135981517\t135673153\t140334554\t\n",
      "CPU times: user 1min 27s, sys: 32 s, total: 1min 59s\n",
      "Wall time: 1h 30min 6s\n"
     ]
    }
   ],
   "source": [
    "#Run the program\n",
    "%time !./532-project equal-batches"
   ]
  },
  {
   "cell_type": "markdown",
   "metadata": {},
   "source": [
    "Just to be sure, list the contents of the directory to make sure the data files exist."
   ]
  },
  {
   "cell_type": "code",
   "execution_count": 3,
   "metadata": {},
   "outputs": [
    {
     "name": "stdout",
     "output_type": "stream",
     "text": [
      "insertionsort.csv  mergesort.csv\r\n"
     ]
    }
   ],
   "source": [
    "!ls *.csv"
   ]
  },
  {
   "cell_type": "markdown",
   "metadata": {},
   "source": [
    "## Step 2: Prepare the data for processing"
   ]
  },
  {
   "cell_type": "markdown",
   "metadata": {},
   "source": [
    "Load the run-times into numpy arrays for processing.\n",
    "\n",
    "**Note that this will only work if the program was run with the `equal-batches` flag set.** Numpy requires that each row have the same number of columns."
   ]
  },
  {
   "cell_type": "code",
   "execution_count": 4,
   "metadata": {},
   "outputs": [],
   "source": [
    "insertion = np.loadtxt(\n",
    "    './insertionsort.csv', dtype='int64', delimiter=',')\n",
    "merge = np.loadtxt(\n",
    "    './mergesort.csv', dtype='int64', delimiter=',')"
   ]
  },
  {
   "cell_type": "markdown",
   "metadata": {},
   "source": [
    "The data is stored in rows of the format $n, r_1, r_2, \\ldots r_i$, where $n$ is the size of the array, and $r_i$ is the run-time in nanoseconds of the $i^{\\textrm{th}}$ run, so a little data muging is necessary. The first column becomes the labels, and the subsequent columns are retained as data."
   ]
  },
  {
   "cell_type": "code",
   "execution_count": 5,
   "metadata": {},
   "outputs": [],
   "source": [
    "insertion_labels = insertion[:, 0]\n",
    "insertion = insertion[:, 1:]\n",
    "merge_labels = merge[:, 0]\n",
    "merge = merge[:, 1:]"
   ]
  },
  {
   "cell_type": "markdown",
   "metadata": {},
   "source": [
    "The `*_labels` arrays *should* contain exactly the same data. If they don't, something has gone wrong. If they do, then it's safe to remove one of them and just use the other for all labels."
   ]
  },
  {
   "cell_type": "code",
   "execution_count": 6,
   "metadata": {},
   "outputs": [],
   "source": [
    "if not np.all(insertion_labels == merge_labels):\n",
    "    raise ValueError(\n",
    "        \"The two data sets were not tested on arrays of the same sizes.\" +\n",
    "            \"\\n\\tInsertion Sort was tested with arrays of sizes:\\n\\t\\t\" +\n",
    "            str(insertion_labels) +\n",
    "            \"\\n\\tMerge Sort was tested with arrays of sizes:\\n\\t\\t\" +\n",
    "            str(merge_labels))\n",
    "else:\n",
    "    labels = insertion_labels\n",
    "    del merge_labels"
   ]
  },
  {
   "cell_type": "markdown",
   "metadata": {},
   "source": [
    "Find the means of each run-time"
   ]
  },
  {
   "cell_type": "code",
   "execution_count": 7,
   "metadata": {},
   "outputs": [],
   "source": [
    "insertion_mean, merge_mean = insertion.mean(axis=1), merge.mean(axis=1)"
   ]
  },
  {
   "cell_type": "markdown",
   "metadata": {},
   "source": [
    "## Step 3: Graph results"
   ]
  },
  {
   "cell_type": "code",
   "execution_count": 8,
   "metadata": {},
   "outputs": [
    {
     "data": {
      "text/plain": [
       "Text(0.5,1,'Run times of Insertion Sort and Merge Sort compared')"
      ]
     },
     "execution_count": 8,
     "metadata": {},
     "output_type": "execute_result"
    },
    {
     "data": {
      "image/png": "[encoded data removed]",
      "text/plain": [
       "<matplotlib.figure.Figure at 0x7fe7757ac320>"
      ]
     },
     "metadata": {},
     "output_type": "display_data"
    }
   ],
   "source": [
    "plt.plot(labels, insertion.mean(axis=1), label='Insertion Sort')\n",
    "plt.plot(labels, merge.mean(axis=1), label='Merge Sort')\n",
    "plt.legend()\n",
    "plt.xscale('log')\n",
    "plt.yscale('log')\n",
    "plt.xlabel(\"Array size $n$\")\n",
    "plt.ylabel('Run Time (ns)')\n",
    "plt.title(\"Run times of Insertion Sort and Merge Sort compared\")"
   ]
  }
 ],
 "metadata": {
  "kernelspec": {
   "display_name": "Python 3",
   "language": "python",
   "name": "python3"
  },
  "language_info": {
   "codemirror_mode": {
    "name": "ipython",
    "version": 3
   },
   "file_extension": ".py",
   "mimetype": "text/x-python",
   "name": "python",
   "nbconvert_exporter": "python",
   "pygments_lexer": "ipython3",
   "version": "3.6.4"
  }
 },
 "nbformat": 4,
 "nbformat_minor": 2
}
