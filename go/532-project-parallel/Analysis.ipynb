{
 "cells": [
  {
   "cell_type": "markdown",
   "metadata": {},
   "source": [
    "# CSCI 532 Semester Project\n",
    "\n",
    "James Avery"
   ]
  },
  {
   "cell_type": "markdown",
   "metadata": {},
   "source": [
    "## Problem #3\n",
    "\n",
    ">Write a C/C++/Matlab/Java program to compute insertion sort and merge sort. (You can use the code from the textbooks by Deitel and Deitel or from the web.) Obtain the run time of both routines.\n",
    "\n",
    ">The input data should be an int array containing random element values (between, say, 0 and 1023). Obtain run time T with 1D (input) array of size of $n = 16$, $256$, $4096$, $65536$, $1048576$ (i.e. $2^p$, where $p = 4$, $8$, $12$, $16$, $20$). The run time for each $n$ should be averaged with about $\\left\\lfloor{\\frac{512}{p \\times p}}\\right\\rfloor$ runs. Each run for a given $n$ should use a different random input.\n",
    "\n",
    ">Plot (with Excel, Matlab, or other available tools) the run time for both routines on one plot, with the $x$ axis in $p$ values, and $y$ axis in $\\log{T}$. Label on the plot which curve is for insertion sort and which is for merge sort.\n",
    "\n",
    ">Submit C/C++ programs and plot, with instructions in readme.txt on how to build and run the program. (Include the Dev-C++/MS Visual Studio/Java NetBeans project file.)"
   ]
  },
  {
   "cell_type": "code",
   "execution_count": 24,
   "metadata": {},
   "outputs": [],
   "source": [
    "import numpy as np\n",
    "import matplotlib.pyplot as plt\n",
    "import datetime\n",
    "from IPython.display import Markdown"
   ]
  },
  {
   "cell_type": "markdown",
   "metadata": {},
   "source": [
    "## Step 1: Run the program"
   ]
  },
  {
   "cell_type": "code",
   "execution_count": 2,
   "metadata": {},
   "outputs": [
    {
     "name": "stdout",
     "output_type": "stream",
     "text": [
      "Starting run at 2018-04-04 13:47:09.950141.\n",
      "\n",
      "\n",
      " Insertion Sort\n",
      "\n",
      "16:\n",
      "318 303 278 377 292 238 194 274 268 238 325 213 360 236 353 218 239 252 265 225 253 270 394 345 \n",
      "\n",
      "256:\n",
      "15364 28603 14837 21803 27716 27317 23362 21070 21229 28977 28759 25239 27213 33152 31420 32809 35123 31103 23706 20790 29756 29159 29348 26023 \n",
      "\n",
      "4096:\n",
      "3584851 6134122 6421733 6782980 6830984 6845526 6864116 3423482 6955506 3552037 7007811 6776468 6791258 6990037 6927552 3429192 5430586 15701308 4196017 16877389 16851765 13183650 6724825 13079781 \n",
      "\n",
      "65536:\n",
      "986373828 981658404 983086878 984772005 937238141 935620765 939440581 943176065 941583759 887930931 891532211 885840306 890021767 883592807 893097911 1068492950 1062601590 1060513300 1058352381 1066911410 1064762349 870868305 884651278 889676376 \n",
      "\n",
      "1048576:\n",
      "223965176062 227974006359 241962000185 241934664421 247721082940 247695445205 296776172219 296749331559 296801156989 363096196419 363069029481 363042769114 363015899034 428545418312 428494241408 428597745256 428519332300 428570803945 428444427355 428469864261 428524434864 428495021732 428418409579 233910806121 \n",
      "\n",
      " Merge Sort\n",
      "\n",
      "16:\n",
      "2008 9471 1691 1771 1616 1702 1615 1650 1646 1674 8448 1680 1627 1262 1552 1678 1240 1200 1618 1619 1225 1558 11175 12564 \n",
      "\n",
      "256:\n",
      "39485 46235 38667 34721 34692 48399 44735 58188 39419 35599 35585 34995 65197 34510 77099 72577 67967 33903 36694 28055 89944 50191 53565 34305 \n",
      "\n",
      "4096:\n",
      "627909 601620 546174 499283 730631 639555 482164 685029 619144 714736 609070 470598 526904 532610 791023 1179926 1276292 1222889 1135923 885311 530755 524957 1371137 1049974 \n",
      "\n",
      "65536:\n",
      "12260683 15404207 14770786 14251268 15016019 15909478 16220149 14548267 16427133 14757199 14841230 14129204 14387097 13080744 13555343 12532787 12018984 12782828 13097137 13151359 11590257 14179597 12853736 12515845 \n",
      "\n",
      "1048576:\n",
      "190649442 213264238 192512993 207707329 207603927 232313138 225161815 221419299 215602277 215930839 203973016 203169953 211863253 203357630 204996294 198299819 206545822 207712302 215109151 210973430 187951211 186859185 181986063 183081384 \n",
      "CPU times: user 43.9 s, sys: 12 s, total: 55.9 s\n",
      "Wall time: 44min 59s\n",
      "\n",
      "Finished run at 2018-04-04 14:32:09.640445.\n",
      "\n"
     ]
    }
   ],
   "source": [
    "#Run the program\n",
    "print(\"Starting run at {}.\\n\".format(str(datetime.datetime.now())))\n",
    "\n",
    "%time !./project equal-batches\n",
    "\n",
    "print(\"\\nFinished run at {}.\\n\".format(str(datetime.datetime.now())))"
   ]
  },
  {
   "cell_type": "markdown",
   "metadata": {},
   "source": [
    "Just to be safe, list the contents of the directory to make sure the data files exist."
   ]
  },
  {
   "cell_type": "code",
   "execution_count": 3,
   "metadata": {},
   "outputs": [
    {
     "name": "stdout",
     "output_type": "stream",
     "text": [
      "insertionsort.csv  mergesort.csv\r\n"
     ]
    }
   ],
   "source": [
    "!ls *.csv"
   ]
  },
  {
   "cell_type": "markdown",
   "metadata": {},
   "source": [
    "## Step 2: Prepare the data for processing"
   ]
  },
  {
   "cell_type": "markdown",
   "metadata": {},
   "source": [
    "Load the run-times into numpy arrays for processing.\n",
    "\n",
    "**Note that this will only work if the program was run with the `equal-batches` flag set.** Numpy requires that each row have the same number of columns."
   ]
  },
  {
   "cell_type": "code",
   "execution_count": 4,
   "metadata": {},
   "outputs": [],
   "source": [
    "insertion = np.loadtxt(\n",
    "    './insertionsort.csv', dtype='int64', delimiter=',')\n",
    "merge = np.loadtxt(\n",
    "    './mergesort.csv', dtype='int64', delimiter=',')"
   ]
  },
  {
   "cell_type": "markdown",
   "metadata": {},
   "source": [
    "The data is stored in rows of the format $n, r_1, r_2, \\ldots r_i$, where $n$ is the size of the array, and $r_i$ is the run-time in nanoseconds of the $i^{\\textrm{th}}$ run, so a little data muging is necessary. The first column becomes the labels, and the subsequent columns are retained as data."
   ]
  },
  {
   "cell_type": "code",
   "execution_count": 5,
   "metadata": {},
   "outputs": [],
   "source": [
    "insertion_labels = insertion[:, 0]\n",
    "insertion = insertion[:, 1:]\n",
    "merge_labels = merge[:, 0]\n",
    "merge = merge[:, 1:]"
   ]
  },
  {
   "cell_type": "markdown",
   "metadata": {},
   "source": [
    "The `*_labels` arrays *should* contain exactly the same data. If they don't, something has gone wrong. If they do, then it's safe to remove one of them and just use the other for all labels."
   ]
  },
  {
   "cell_type": "code",
   "execution_count": 6,
   "metadata": {},
   "outputs": [],
   "source": [
    "if not np.all(insertion_labels == merge_labels):\n",
    "    raise ValueError(\n",
    "        \"The two data sets were not tested on arrays of the same sizes.\" +\n",
    "            \"\\n\\tInsertion Sort was tested with arrays of sizes:\\n\\t\\t\" +\n",
    "            str(insertion_labels) +\n",
    "            \"\\n\\tMerge Sort was tested with arrays of sizes:\\n\\t\\t\" +\n",
    "            str(merge_labels))\n",
    "else:\n",
    "    labels = insertion_labels.copy()\n",
    "    del merge_labels, insertion_labels"
   ]
  },
  {
   "cell_type": "markdown",
   "metadata": {},
   "source": [
    "Find the means of each run-time"
   ]
  },
  {
   "cell_type": "code",
   "execution_count": 7,
   "metadata": {},
   "outputs": [],
   "source": [
    "insertion_mean, merge_mean = insertion.mean(axis=1), merge.mean(axis=1)"
   ]
  },
  {
   "cell_type": "markdown",
   "metadata": {},
   "source": [
    "## Step 3: Graph results"
   ]
  },
  {
   "cell_type": "code",
   "execution_count": 43,
   "metadata": {
    "scrolled": false
   },
   "outputs": [
    {
     "data": {
      "text/markdown": [
       "| $n$ | Insertion Sort | Merge Sort |\n",
       "|:---|:---:|:---:|\n",
       "| 16 | 265.75 | 3152.4 |\n",
       "| 256 | 2.717e+04 | 4.264e+04 |\n",
       "| 4096 | 8.5647e+06 | 7.5054e+05 |\n",
       "| 65536 | 9.5492e+08 | 1.3937e+07 |\n",
       "| 1048576 | 3.4309e+11 | 2.0701e+08 |\n"
      ],
      "text/plain": [
       "<IPython.core.display.Markdown object>"
      ]
     },
     "execution_count": 43,
     "metadata": {},
     "output_type": "execute_result"
    },
    {
     "data": {
      "image/png": "[encoded data removed]",
      "text/plain": [
       "<matplotlib.figure.Figure at 0x7fb6ee87c6a0>"
      ]
     },
     "metadata": {},
     "output_type": "display_data"
    }
   ],
   "source": [
    "plt.rcParams['figure.figsize'] = [10, 10]\n",
    "plt.plot(labels, insertion_mean, label='Insertion Sort')\n",
    "plt.plot(labels, merge_mean, label='Merge Sort')\n",
    "plt.legend()\n",
    "plt.xscale('log')\n",
    "plt.yscale('log')\n",
    "plt.xlabel(\"Array size $n$\")\n",
    "plt.ylabel('Run Time (ns)')\n",
    "plt.title(\"Average Run Times of Insertion Sort and Merge Sort Compared\")\n",
    "\n",
    "table = \"| $n$ | Insertion Sort | Merge Sort |\\n|:---|:---:|:---:|\\n\"\n",
    "for i in range(len(labels)):\n",
    "    table += \"| {n} | {ins:.5} | {ms:.5} |\\n\".format(\n",
    "        n=labels[i], \n",
    "        ins=insertion_mean[i], \n",
    "        ms=merge_mean[i]\n",
    "    )\n",
    "Markdown(table)"
   ]
  }
 ],
 "metadata": {
  "kernelspec": {
   "display_name": "Python 3",
   "language": "python",
   "name": "python3"
  },
  "language_info": {
   "codemirror_mode": {
    "name": "ipython",
    "version": 3
   },
   "file_extension": ".py",
   "mimetype": "text/x-python",
   "name": "python",
   "nbconvert_exporter": "python",
   "pygments_lexer": "ipython3",
   "version": "3.6.4"
  }
 },
 "nbformat": 4,
 "nbformat_minor": 2
}
